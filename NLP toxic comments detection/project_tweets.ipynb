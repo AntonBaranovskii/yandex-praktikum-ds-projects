{
 "cells": [
  {
   "cell_type": "markdown",
   "metadata": {},
   "source": [
    "## Этап 1. Открываю данные и получаю общую информацию о датасете"
   ]
  },
  {
   "cell_type": "markdown",
   "metadata": {},
   "source": [
    "#### Импортирую библиотеки"
   ]
  },
  {
   "cell_type": "code",
   "execution_count": 1,
   "metadata": {},
   "outputs": [],
   "source": [
    "%%capture\n",
    "import pandas as pd\n",
    "import numpy as np\n",
    "!pip install swifter\n",
    "import swifter\n",
    "import re\n",
    "import nltk\n",
    "from nltk.corpus import stopwords as nltk_stopwords\n",
    "from nltk.stem import WordNetLemmatizer\n",
    "nltk.download('wordnet')\n",
    "import sys\n",
    "!{sys.executable} -m pip install spacy\n",
    "!{sys.executable} -m spacy download en\n",
    "import spacy\n",
    "!pip install wordcloud\n",
    "from wordcloud import WordCloud\n",
    "import matplotlib.pyplot as plt\n",
    "%matplotlib inline"
   ]
  },
  {
   "cell_type": "code",
   "execution_count": 2,
   "metadata": {},
   "outputs": [],
   "source": [
    "%%capture\n",
    "from sklearn.model_selection import train_test_split\n",
    "from sklearn.feature_extraction.text import TfidfVectorizer\n",
    "from sklearn.linear_model import LogisticRegression\n",
    "from sklearn.model_selection import GridSearchCV\n",
    "from sklearn.ensemble import RandomForestClassifier\n",
    "from sklearn.pipeline import Pipeline\n",
    "from sklearn.metrics import f1_score\n",
    "!pip install optuna\n",
    "import optuna\n",
    "from sklearn.model_selection import cross_val_score\n",
    "from sklearn.metrics import f1_score\n",
    "import catboost as cb\n",
    "from catboost import Pool"
   ]
  },
  {
   "cell_type": "code",
   "execution_count": 3,
   "metadata": {},
   "outputs": [],
   "source": [
    "try:\n",
    "    df = pd.read_csv('toxic_comments.csv', index_col=0)\n",
    "except:\n",
    "    df = pd.read_csv('/datasets/toxic_comments.csv', index_col=0)"
   ]
  },
  {
   "cell_type": "code",
   "execution_count": 4,
   "metadata": {},
   "outputs": [
    {
     "name": "stdout",
     "output_type": "stream",
     "text": [
      "<class 'pandas.core.frame.DataFrame'>\n",
      "Int64Index: 159292 entries, 0 to 159450\n",
      "Data columns (total 2 columns):\n",
      " #   Column  Non-Null Count   Dtype \n",
      "---  ------  --------------   ----- \n",
      " 0   text    159292 non-null  object\n",
      " 1   toxic   159292 non-null  int64 \n",
      "dtypes: int64(1), object(1)\n",
      "memory usage: 3.6+ MB\n"
     ]
    }
   ],
   "source": [
    "#смотрю общую информацию\n",
    "df.info()"
   ]
  },
  {
   "cell_type": "code",
   "execution_count": 5,
   "metadata": {},
   "outputs": [
    {
     "data": {
      "text/plain": [
       "0"
      ]
     },
     "execution_count": 5,
     "metadata": {},
     "output_type": "execute_result"
    }
   ],
   "source": [
    "#проверяю на дубликаты\n",
    "df.duplicated().sum()"
   ]
  },
  {
   "cell_type": "code",
   "execution_count": 6,
   "metadata": {},
   "outputs": [
    {
     "data": {
      "text/html": [
       "<div>\n",
       "<style scoped>\n",
       "    .dataframe tbody tr th:only-of-type {\n",
       "        vertical-align: middle;\n",
       "    }\n",
       "\n",
       "    .dataframe tbody tr th {\n",
       "        vertical-align: top;\n",
       "    }\n",
       "\n",
       "    .dataframe thead th {\n",
       "        text-align: right;\n",
       "    }\n",
       "</style>\n",
       "<table border=\"1\" class=\"dataframe\">\n",
       "  <thead>\n",
       "    <tr style=\"text-align: right;\">\n",
       "      <th></th>\n",
       "      <th>text</th>\n",
       "      <th>toxic</th>\n",
       "    </tr>\n",
       "  </thead>\n",
       "  <tbody>\n",
       "    <tr>\n",
       "      <th>101965</th>\n",
       "      <td>\"\\n Speedy deletion of \"\"Andrewless\"\" \\n\\n A p...</td>\n",
       "      <td>0</td>\n",
       "    </tr>\n",
       "    <tr>\n",
       "      <th>23028</th>\n",
       "      <td>User with a similar username? \\n\\nIts probably...</td>\n",
       "      <td>0</td>\n",
       "    </tr>\n",
       "    <tr>\n",
       "      <th>21176</th>\n",
       "      <td>Response to your Lieberman/Lamont post \\n\\n Yo...</td>\n",
       "      <td>0</td>\n",
       "    </tr>\n",
       "    <tr>\n",
       "      <th>157219</th>\n",
       "      <td>\"\\n\\n Another Toronto Cinema \\n\\nAlthough shor...</td>\n",
       "      <td>0</td>\n",
       "    </tr>\n",
       "    <tr>\n",
       "      <th>126323</th>\n",
       "      <td>i am 39 and haveno kids, i am boring</td>\n",
       "      <td>0</td>\n",
       "    </tr>\n",
       "  </tbody>\n",
       "</table>\n",
       "</div>"
      ],
      "text/plain": [
       "                                                     text  toxic\n",
       "101965  \"\\n Speedy deletion of \"\"Andrewless\"\" \\n\\n A p...      0\n",
       "23028   User with a similar username? \\n\\nIts probably...      0\n",
       "21176   Response to your Lieberman/Lamont post \\n\\n Yo...      0\n",
       "157219  \"\\n\\n Another Toronto Cinema \\n\\nAlthough shor...      0\n",
       "126323               i am 39 and haveno kids, i am boring      0"
      ]
     },
     "execution_count": 6,
     "metadata": {},
     "output_type": "execute_result"
    }
   ],
   "source": [
    "df.sample(5)"
   ]
  },
  {
   "cell_type": "code",
   "execution_count": 7,
   "metadata": {},
   "outputs": [
    {
     "data": {
      "text/plain": [
       "0    0.898388\n",
       "1    0.101612\n",
       "Name: toxic, dtype: float64"
      ]
     },
     "execution_count": 7,
     "metadata": {},
     "output_type": "execute_result"
    },
    {
     "data": {
      "image/png": "[encoded data removed]",
      "text/plain": [
       "<Figure size 640x480 with 1 Axes>"
      ]
     },
     "metadata": {},
     "output_type": "display_data"
    }
   ],
   "source": [
    "#смотрю частоту классов\n",
    "class_frequency = df['toxic'].value_counts(normalize=True)\n",
    "class_frequency.plot(kind='bar', title='Баланс классов')\n",
    "class_frequency"
   ]
  },
  {
   "cell_type": "code",
   "execution_count": 8,
   "metadata": {},
   "outputs": [
    {
     "data": {
      "text/plain": [
       "\"Explanation\\nWhy the edits made under my username Hardcore Metallica Fan were reverted? They weren't vandalisms, just closure on some GAs after I voted at New York Dolls FAC. And please don't remove the template from the talk page since I'm retired now.89.205.38.27\""
      ]
     },
     "execution_count": 8,
     "metadata": {},
     "output_type": "execute_result"
    }
   ],
   "source": [
    "df['text'][0]"
   ]
  },
  {
   "cell_type": "markdown",
   "metadata": {},
   "source": [
    "## Этап 2. Предобработка данных"
   ]
  },
  {
   "cell_type": "markdown",
   "metadata": {},
   "source": [
    "#### Регулярные выражения"
   ]
  },
  {
   "cell_type": "code",
   "execution_count": 9,
   "metadata": {},
   "outputs": [],
   "source": [
    "#применяю регулярные выражения\n",
    "def clear_text(text):\n",
    "    text_new = re.sub(r'[^a-zA-Z\\']', ' ', text).strip()\n",
    "    text_new = text_new.split()\n",
    "    return \" \".join(text_new).lower()"
   ]
  },
  {
   "cell_type": "code",
   "execution_count": 10,
   "metadata": {},
   "outputs": [],
   "source": [
    "df['text'] = df['text'].apply(clear_text)"
   ]
  },
  {
   "cell_type": "markdown",
   "metadata": {},
   "source": [
    "#### Стоп-слова и лемматизация"
   ]
  },
  {
   "cell_type": "code",
   "execution_count": 11,
   "metadata": {},
   "outputs": [],
   "source": [
    "#импортирую стоп слова\n",
    "nltk.download('stopwords')\n",
    "stopwords = set(nltk_stopwords.words('english'))"
   ]
  },
  {
   "cell_type": "code",
   "execution_count": 12,
   "metadata": {},
   "outputs": [],
   "source": [
    "nlp = spacy.load(\"en_core_web_sm\", disable=['parser', 'ner'])"
   ]
  },
  {
   "cell_type": "code",
   "execution_count": 13,
   "metadata": {},
   "outputs": [],
   "source": [
    "#лемматизирую текст \n",
    "def lemmatize(text):\n",
    "    doc = nlp(text)\n",
    "    lemmas = \" \".join([token.lemma_ for token in doc])\n",
    "    return lemmas"
   ]
  },
  {
   "cell_type": "code",
   "execution_count": 14,
   "metadata": {},
   "outputs": [
    {
     "data": {
      "application/vnd.jupyter.widget-view+json": {
       "model_id": "29ed9ba2b4da4e0c9ffbf1cba237f0e5",
       "version_major": 2,
       "version_minor": 0
      },
      "text/plain": [
       "Pandas Apply:   0%|          | 0/159292 [00:00<?, ?it/s]"
      ]
     },
     "metadata": {},
     "output_type": "display_data"
    },
    {
     "name": "stdout",
     "output_type": "stream",
     "text": [
      "CPU times: user 11min 32s, sys: 2.59 s, total: 11min 35s\n",
      "Wall time: 11min 34s\n"
     ]
    }
   ],
   "source": [
    "%%time\n",
    "df['text'] = df['text'].swifter.apply(lemmatize)"
   ]
  },
  {
   "cell_type": "code",
   "execution_count": 15,
   "metadata": {},
   "outputs": [],
   "source": [
    "#убираю стопслова\n",
    "df['text'] = df['text'].apply(lambda x: ' '.join([word for word in x.split() if\n",
    "                                                            word not in stopwords]))"
   ]
  },
  {
   "cell_type": "code",
   "execution_count": 16,
   "metadata": {},
   "outputs": [
    {
     "name": "stdout",
     "output_type": "stream",
     "text": [
      "explanation edit make username hardcore metallica fan revert vandalism closure gas I vote new york dolls fac please remove template talk page since I retire\n"
     ]
    }
   ],
   "source": [
    "#смотрю результат\n",
    "print(df['text'][0])"
   ]
  },
  {
   "cell_type": "code",
   "execution_count": 17,
   "metadata": {},
   "outputs": [
    {
     "data": {
      "image/png": "[encoded data removed]",
      "text/plain": [
       "<Figure size 640x480 with 1 Axes>"
      ]
     },
     "metadata": {},
     "output_type": "display_data"
    }
   ],
   "source": [
    "#строю облако слов\n",
    "worldcloud = WordCloud(width=800, height=400, \n",
    "                       background_color='white').generate(str(df['text']))\n",
    "plt.imshow(worldcloud)\n",
    "plt.axis('off')\n",
    "plt.show()"
   ]
  },
  {
   "cell_type": "markdown",
   "metadata": {},
   "source": [
    "## Этап 3. Обучение моделей"
   ]
  },
  {
   "cell_type": "code",
   "execution_count": 18,
   "metadata": {},
   "outputs": [],
   "source": [
    "#определяю признак и целевой признак\n",
    "features = df['text']\n",
    "target = df['toxic']"
   ]
  },
  {
   "cell_type": "code",
   "execution_count": 19,
   "metadata": {},
   "outputs": [],
   "source": [
    "features_train, features_test, target_train, target_test = train_test_split(features, target,\n",
    "                                                                           test_size=0.3,\n",
    "                                                                           random_state=12345,\n",
    "                                                                           stratify=target)"
   ]
  },
  {
   "cell_type": "markdown",
   "metadata": {},
   "source": [
    "### Logistic Regression"
   ]
  },
  {
   "cell_type": "code",
   "execution_count": 20,
   "metadata": {},
   "outputs": [
    {
     "name": "stdout",
     "output_type": "stream",
     "text": [
      "Fitting 3 folds for each of 12 candidates, totalling 36 fits\n",
      "CPU times: user 22min 43s, sys: 4min 53s, total: 27min 37s\n",
      "Wall time: 8min 8s\n"
     ]
    },
    {
     "data": {
      "text/plain": [
       "GridSearchCV(cv=3,\n",
       "             estimator=Pipeline(steps=[('tfidf', TfidfVectorizer()),\n",
       "                                       ('model_lr',\n",
       "                                        LogisticRegression(random_state=12345))]),\n",
       "             param_grid={'model_lr__C': [0.1, 10.0],\n",
       "                         'model_lr__max_iter': [500, 1000],\n",
       "                         'tfidf__ngram_range': [(1, 1), (2, 2), (3, 3)]},\n",
       "             scoring='f1', verbose=1)"
      ]
     },
     "execution_count": 20,
     "metadata": {},
     "output_type": "execute_result"
    }
   ],
   "source": [
    "%%time\n",
    "pipeline_lr = Pipeline([\n",
    "    ('tfidf', TfidfVectorizer()),\n",
    "    ('model_lr', LogisticRegression(random_state=12345))\n",
    "])\n",
    "\n",
    "param_lr = {\n",
    "    'tfidf__ngram_range': [(1,1), (2,2), (3,3)],\n",
    "    'model_lr__C': [0.1, 10.0],\n",
    "    'model_lr__max_iter': [500, 1000]\n",
    "}\n",
    "\n",
    "grid_search = GridSearchCV(pipeline_lr, param_lr, cv=3, scoring='f1', verbose=1)\n",
    "grid_search.fit(features_train, target_train)"
   ]
  },
  {
   "cell_type": "code",
   "execution_count": 21,
   "metadata": {},
   "outputs": [],
   "source": [
    "best_model_lr = grid_search.best_estimator_\n",
    "best_params_lr = grid_search.best_params_\n",
    "best_score_lr = grid_search.best_score_"
   ]
  },
  {
   "cell_type": "code",
   "execution_count": 22,
   "metadata": {},
   "outputs": [
    {
     "name": "stdout",
     "output_type": "stream",
     "text": [
      "Лучшие гиперпараметры: {'model_lr__C': 10.0, 'model_lr__max_iter': 500, 'tfidf__ngram_range': (1, 1)}\n",
      "Лучший f1: 0.7700924859639056\n"
     ]
    }
   ],
   "source": [
    "print('Лучшие гиперпараметры:', best_params_lr)\n",
    "print('Лучший f1:', best_score_lr)"
   ]
  },
  {
   "cell_type": "markdown",
   "metadata": {},
   "source": [
    "### Random Forest"
   ]
  },
  {
   "cell_type": "code",
   "execution_count": 23,
   "metadata": {},
   "outputs": [],
   "source": [
    "#подбираю лучшие гиперпараметры через optuna\n",
    "def objective(trial):\n",
    "    param_rf = {'n_estimators': trial.suggest_int('n_estimators', 50, 200, step=50),\n",
    "                'max_depth': trial.suggest_int('max_depth', 10, 30, step=10),\n",
    "                'min_samples_split': trial.suggest_int('min_samples_split', 2, 10, 2)\n",
    "                \n",
    "    }\n",
    "    \n",
    "    pipeline_rf = Pipeline([\n",
    "    ('tfidf', TfidfVectorizer()),\n",
    "    ('model_rf', RandomForestClassifier(**param_rf, random_state=12345))\n",
    "    ])\n",
    "\n",
    "    scores = cross_val_score(pipeline_rf, features_train, \n",
    "                             target_train, cv=3, scoring='f1')\n",
    "    f1 = scores.mean()\n",
    "    return f1\n"
   ]
  },
  {
   "cell_type": "code",
   "execution_count": 24,
   "metadata": {},
   "outputs": [
    {
     "name": "stdout",
     "output_type": "stream",
     "text": [
      "CPU times: user 23min 59s, sys: 12.1 s, total: 24min 11s\n",
      "Wall time: 24min 11s\n"
     ]
    }
   ],
   "source": [
    "%%time\n",
    "study_rf = optuna.create_study(direction='maximize')\n",
    "study_rf.optimize(objective, n_trials=100)"
   ]
  },
  {
   "cell_type": "code",
   "execution_count": 25,
   "metadata": {},
   "outputs": [],
   "source": [
    "best_params_rf = study_rf.best_params\n",
    "best_score_rf = study_rf.best_value"
   ]
  },
  {
   "cell_type": "code",
   "execution_count": 26,
   "metadata": {},
   "outputs": [
    {
     "name": "stdout",
     "output_type": "stream",
     "text": [
      "Лучшие гиперпараметры {'n_estimators': 50, 'max_depth': 30, 'min_samples_split': 4}\n",
      "Лучший f1: 0.02024983478044988\n"
     ]
    }
   ],
   "source": [
    "print('Лучшие гиперпараметры', best_params_rf)\n",
    "print('Лучший f1:', best_score_rf)"
   ]
  },
  {
   "cell_type": "markdown",
   "metadata": {},
   "source": [
    "### Logistic Regression (thresholding)"
   ]
  },
  {
   "cell_type": "code",
   "execution_count": 27,
   "metadata": {},
   "outputs": [],
   "source": [
    "#выделю валидационную выборку\n",
    "features_train_2, features_valid, target_train_2, target_valid = train_test_split(features_train, \n",
    "                                                                                  target_train,\n",
    "                                                                                  test_size=0.3,\n",
    "                                                                                  random_state=12345,\n",
    "                                                                                  stratify=target_train)                                                                       "
   ]
  },
  {
   "cell_type": "code",
   "execution_count": 28,
   "metadata": {},
   "outputs": [
    {
     "name": "stdout",
     "output_type": "stream",
     "text": [
      "Лучший F1: 0.7874650946323302 при пороге: 0.38\n"
     ]
    }
   ],
   "source": [
    "pipeline_lr_2 = Pipeline([\n",
    "    ('tfidf', TfidfVectorizer()),\n",
    "    ('model_lr_threshold', LogisticRegression(C=10.0, max_iter=500, random_state=12345))\n",
    "])\n",
    "\n",
    "pipeline_lr_2.fit(features_train_2, target_train_2)\n",
    "prob_lr = pipeline_lr_2.predict_proba(features_valid)\n",
    "\n",
    "best_f1_lr_threshold = 0\n",
    "best_threshold = 0\n",
    "for threshold in np.arange(0.1, 1, 0.02):\n",
    "    predicted_lin_threshold = prob_lr[:, 1] > threshold\n",
    "    f1_lr_threshold = f1_score(target_valid, predicted_lin_threshold)\n",
    "    if f1_lr_threshold > best_f1_lr_threshold:\n",
    "        best_f1_lr_threshold = f1_lr_threshold\n",
    "        best_threshold = threshold\n",
    "print('Лучший F1:', best_f1_lr_threshold, 'при пороге:', best_threshold)"
   ]
  },
  {
   "cell_type": "markdown",
   "metadata": {},
   "source": [
    "### CatBoost"
   ]
  },
  {
   "cell_type": "code",
   "execution_count": 32,
   "metadata": {},
   "outputs": [],
   "source": [
    "#подбираю лучшие гиперпараметры через optuna\n",
    "def objective(trial):\n",
    "    param_cb = {'learning_rate': trial.suggest_float('learning_rate', 0.05, 0.1, step=0.01),\n",
    "                'iterations': trial.suggest_int('iterations', 100, 200, step=50)\n",
    "                \n",
    "      \n",
    "        \n",
    "    }\n",
    "                                    \n",
    "    \n",
    "    pipeline_cb = Pipeline([\n",
    "    ('tfidf', TfidfVectorizer()),\n",
    "    ('model_cb', cb.CatBoostClassifier(**param_cb, random_state=12345))\n",
    "    ])\n",
    "    \n",
    " \n",
    "    scores = cross_val_score(pipeline_cb, features_train, \n",
    "                             target_train, cv=3, scoring='f1')\n",
    "    f1 = scores.mean()\n",
    "    return f1\n"
   ]
  },
  {
   "cell_type": "code",
   "execution_count": 33,
   "metadata": {
    "scrolled": true
   },
   "outputs": [
    {
     "name": "stdout",
     "output_type": "stream",
     "text": [
      "CPU times: user 17h 29min 55s, sys: 19min 5s, total: 17h 49min 1s\n",
      "Wall time: 3h 23min 17s\n"
     ]
    }
   ],
   "source": [
    "%%time\n",
    "study_cb = optuna.create_study(direction='maximize')\n",
    "study_cb.optimize(objective, n_trials=100)"
   ]
  },
  {
   "cell_type": "code",
   "execution_count": 34,
   "metadata": {},
   "outputs": [],
   "source": [
    "best_params_cb = study_cb.best_params\n",
    "best_score_cb = study_cb.best_value"
   ]
  },
  {
   "cell_type": "code",
   "execution_count": 35,
   "metadata": {},
   "outputs": [
    {
     "name": "stdout",
     "output_type": "stream",
     "text": [
      "Лучшие гиперпараметры {'learning_rate': 0.1, 'iterations': 200}\n",
      "Лучший f1: 0.7075284795238352\n"
     ]
    }
   ],
   "source": [
    "print('Лучшие гиперпараметры', best_params_cb)\n",
    "print('Лучший f1:', best_score_cb)"
   ]
  },
  {
   "cell_type": "markdown",
   "metadata": {},
   "source": [
    "## Выводы"
   ]
  },
  {
   "cell_type": "markdown",
   "metadata": {},
   "source": [
    "### Сравнение"
   ]
  },
  {
   "cell_type": "code",
   "execution_count": 38,
   "metadata": {},
   "outputs": [
    {
     "data": {
      "text/html": [
       "<div>\n",
       "<style scoped>\n",
       "    .dataframe tbody tr th:only-of-type {\n",
       "        vertical-align: middle;\n",
       "    }\n",
       "\n",
       "    .dataframe tbody tr th {\n",
       "        vertical-align: top;\n",
       "    }\n",
       "\n",
       "    .dataframe thead th {\n",
       "        text-align: right;\n",
       "    }\n",
       "</style>\n",
       "<table border=\"1\" class=\"dataframe\">\n",
       "  <thead>\n",
       "    <tr style=\"text-align: right;\">\n",
       "      <th></th>\n",
       "      <th>модель</th>\n",
       "      <th>f1</th>\n",
       "    </tr>\n",
       "  </thead>\n",
       "  <tbody>\n",
       "    <tr>\n",
       "      <th>0</th>\n",
       "      <td>log regression</td>\n",
       "      <td>0.770092</td>\n",
       "    </tr>\n",
       "    <tr>\n",
       "      <th>1</th>\n",
       "      <td>log regression (thresholding)</td>\n",
       "      <td>0.787465</td>\n",
       "    </tr>\n",
       "    <tr>\n",
       "      <th>2</th>\n",
       "      <td>random forest</td>\n",
       "      <td>0.020250</td>\n",
       "    </tr>\n",
       "    <tr>\n",
       "      <th>3</th>\n",
       "      <td>catboost</td>\n",
       "      <td>0.707528</td>\n",
       "    </tr>\n",
       "  </tbody>\n",
       "</table>\n",
       "</div>"
      ],
      "text/plain": [
       "                          модель        f1\n",
       "0                 log regression  0.770092\n",
       "1  log regression (thresholding)  0.787465\n",
       "2                  random forest  0.020250\n",
       "3                       catboost  0.707528"
      ]
     },
     "execution_count": 38,
     "metadata": {},
     "output_type": "execute_result"
    }
   ],
   "source": [
    "df_model = pd.DataFrame({'модель': ['log regression', 'log regression (thresholding)', 'random forest', 'catboost'],\n",
    "                        'f1': [best_score_lr, best_f1_lr_threshold, best_score_rf , best_score_cb]})\n",
    "df_model"
   ]
  },
  {
   "cell_type": "markdown",
   "metadata": {},
   "source": [
    "- Видим, что модель random forest имеет крайне низкую эффективность для решения данной задачи.\n",
    "- На тестовой выборке применяю лучшую модель - логистическую регрессию c нестандартным порогом."
   ]
  },
  {
   "cell_type": "markdown",
   "metadata": {},
   "source": [
    "### Тестирование лучшей модели"
   ]
  },
  {
   "cell_type": "code",
   "execution_count": 41,
   "metadata": {},
   "outputs": [],
   "source": [
    "prob_test = pipeline_lr_2.predict_proba(features_test)\n",
    "predictions_test = prob_test[:, 1] > best_threshold\n",
    "f1_best_model = f1_score(target_test, predictions_test)"
   ]
  },
  {
   "cell_type": "code",
   "execution_count": 42,
   "metadata": {
    "scrolled": true
   },
   "outputs": [
    {
     "name": "stdout",
     "output_type": "stream",
     "text": [
      "F1 лучшей модели на тестовой выборке: 0.7818221928082948\n"
     ]
    }
   ],
   "source": [
    "print('F1 лучшей модели на тестовой выборке:', f1_best_model)"
   ]
  },
  {
   "cell_type": "markdown",
   "metadata": {},
   "source": [
    "### Заключение"
   ]
  },
  {
   "cell_type": "markdown",
   "metadata": {},
   "source": [
    "Была поставлена задача провести обучение модели для классификации комментариев на негативные и позитивные. В качестве целевой метрики была определена метрика F1 (значение > 0.75). Исходные данные представляют собой необработанные тексты комментариев с разметкой о токсичности.\n",
    "В ходе исследования были проведены следующие этапы:\n",
    "- Предобработка текста (регулярные выражения, лемматизация, удаление стоп-слов);\n",
    "- Обучение и сравнение моделей (логистическая регрессия, random forest, catboost);\n",
    "- Лучший результат из рассмотренных моделей показала логистическая регрессия с настроенным порогом (0.38);\n",
    "- На тестовой выборке отобранная лучшая модель показала результат 0.7818, что соответствует исходной цели."
   ]
  }
 ],
 "metadata": {
  "kernelspec": {
   "display_name": "Python 3 (ipykernel)",
   "language": "python",
   "name": "python3"
  },
  "language_info": {
   "codemirror_mode": {
    "name": "ipython",
    "version": 3
   },
   "file_extension": ".py",
   "mimetype": "text/x-python",
   "name": "python",
   "nbconvert_exporter": "python",
   "pygments_lexer": "ipython3",
   "version": "3.9.13"
  },
  "toc": {
   "base_numbering": 1,
   "nav_menu": {},
   "number_sections": true,
   "sideBar": true,
   "skip_h1_title": true,
   "title_cell": "Содержание",
   "title_sidebar": "Contents",
   "toc_cell": true,
   "toc_position": {
    "height": "calc(100% - 180px)",
    "left": "10px",
    "top": "150px",
    "width": "302.391px"
   },
   "toc_section_display": true,
   "toc_window_display": false
  }
 },
 "nbformat": 4,
 "nbformat_minor": 2
}
