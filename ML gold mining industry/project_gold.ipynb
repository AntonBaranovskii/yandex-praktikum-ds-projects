{
 "cells": [
  {
   "cell_type": "markdown",
   "metadata": {},
   "source": [
    "## Этап 1. Открываю данные и получаю общую информацию о датасете"
   ]
  },
  {
   "cell_type": "markdown",
   "metadata": {},
   "source": [
    "### Импортирую библиотеки"
   ]
  },
  {
   "cell_type": "code",
   "execution_count": 1,
   "metadata": {},
   "outputs": [],
   "source": [
    "import pandas as pd\n",
    "import matplotlib.pyplot as plt\n",
    "from sklearn.metrics import mean_absolute_error\n",
    "import seaborn as sns\n",
    "import numpy as np\n",
    "from sklearn.linear_model import LinearRegression\n",
    "from sklearn.tree import DecisionTreeRegressor\n",
    "from sklearn.ensemble import RandomForestRegressor\n",
    "from sklearn.model_selection import cross_val_score\n",
    "from sklearn.metrics import make_scorer\n",
    "from sklearn.model_selection import GridSearchCV\n",
    "from sklearn.dummy import DummyRegressor"
   ]
  },
  {
   "cell_type": "code",
   "execution_count": 2,
   "metadata": {},
   "outputs": [],
   "source": [
    "try:\n",
    "    df = pd.read_csv('gold_recovery_full_new.csv')\n",
    "    df_test = pd.read_csv('gold_recovery_test_new.csv')\n",
    "    df_train = pd.read_csv('gold_recovery_train_new.csv')\n",
    "except:\n",
    "    df = pd.read_csv('/datasets/gold_recovery_full_new.csv')\n",
    "    df_train = pd.read_csv('/datasets/gold_recovery_train_new.csv')\n",
    "    df_test = pd.read_csv('/datasets/gold_recovery_test_new.csv')"
   ]
  },
  {
   "cell_type": "code",
   "execution_count": 3,
   "metadata": {},
   "outputs": [
    {
     "data": {
      "text/plain": [
       "((19439, 87), (5290, 53), (14149, 87))"
      ]
     },
     "execution_count": 3,
     "metadata": {},
     "output_type": "execute_result"
    }
   ],
   "source": [
    "df.shape, df_test.shape, df_train.shape"
   ]
  },
  {
   "cell_type": "code",
   "execution_count": 4,
   "metadata": {
    "scrolled": true
   },
   "outputs": [
    {
     "name": "stdout",
     "output_type": "stream",
     "text": [
      "<class 'pandas.core.frame.DataFrame'>\n",
      "RangeIndex: 19439 entries, 0 to 19438\n",
      "Data columns (total 87 columns):\n",
      " #   Column                                              Non-Null Count  Dtype  \n",
      "---  ------                                              --------------  -----  \n",
      " 0   date                                                19439 non-null  object \n",
      " 1   final.output.concentrate_ag                         19438 non-null  float64\n",
      " 2   final.output.concentrate_pb                         19438 non-null  float64\n",
      " 3   final.output.concentrate_sol                        19228 non-null  float64\n",
      " 4   final.output.concentrate_au                         19439 non-null  float64\n",
      " 5   final.output.recovery                               19439 non-null  float64\n",
      " 6   final.output.tail_ag                                19438 non-null  float64\n",
      " 7   final.output.tail_pb                                19338 non-null  float64\n",
      " 8   final.output.tail_sol                               19433 non-null  float64\n",
      " 9   final.output.tail_au                                19439 non-null  float64\n",
      " 10  primary_cleaner.input.sulfate                       19415 non-null  float64\n",
      " 11  primary_cleaner.input.depressant                    19402 non-null  float64\n",
      " 12  primary_cleaner.input.feed_size                     19439 non-null  float64\n",
      " 13  primary_cleaner.input.xanthate                      19335 non-null  float64\n",
      " 14  primary_cleaner.output.concentrate_ag               19439 non-null  float64\n",
      " 15  primary_cleaner.output.concentrate_pb               19323 non-null  float64\n",
      " 16  primary_cleaner.output.concentrate_sol              19069 non-null  float64\n",
      " 17  primary_cleaner.output.concentrate_au               19439 non-null  float64\n",
      " 18  primary_cleaner.output.tail_ag                      19435 non-null  float64\n",
      " 19  primary_cleaner.output.tail_pb                      19418 non-null  float64\n",
      " 20  primary_cleaner.output.tail_sol                     19377 non-null  float64\n",
      " 21  primary_cleaner.output.tail_au                      19439 non-null  float64\n",
      " 22  primary_cleaner.state.floatbank8_a_air              19435 non-null  float64\n",
      " 23  primary_cleaner.state.floatbank8_a_level            19438 non-null  float64\n",
      " 24  primary_cleaner.state.floatbank8_b_air              19435 non-null  float64\n",
      " 25  primary_cleaner.state.floatbank8_b_level            19438 non-null  float64\n",
      " 26  primary_cleaner.state.floatbank8_c_air              19437 non-null  float64\n",
      " 27  primary_cleaner.state.floatbank8_c_level            19438 non-null  float64\n",
      " 28  primary_cleaner.state.floatbank8_d_air              19436 non-null  float64\n",
      " 29  primary_cleaner.state.floatbank8_d_level            19438 non-null  float64\n",
      " 30  rougher.calculation.sulfate_to_au_concentrate       19437 non-null  float64\n",
      " 31  rougher.calculation.floatbank10_sulfate_to_au_feed  19437 non-null  float64\n",
      " 32  rougher.calculation.floatbank11_sulfate_to_au_feed  19437 non-null  float64\n",
      " 33  rougher.calculation.au_pb_ratio                     19439 non-null  float64\n",
      " 34  rougher.input.feed_ag                               19439 non-null  float64\n",
      " 35  rougher.input.feed_pb                               19339 non-null  float64\n",
      " 36  rougher.input.feed_rate                             19428 non-null  float64\n",
      " 37  rougher.input.feed_size                             19294 non-null  float64\n",
      " 38  rougher.input.feed_sol                              19340 non-null  float64\n",
      " 39  rougher.input.feed_au                               19439 non-null  float64\n",
      " 40  rougher.input.floatbank10_sulfate                   19405 non-null  float64\n",
      " 41  rougher.input.floatbank10_xanthate                  19431 non-null  float64\n",
      " 42  rougher.input.floatbank11_sulfate                   19395 non-null  float64\n",
      " 43  rougher.input.floatbank11_xanthate                  18986 non-null  float64\n",
      " 44  rougher.output.concentrate_ag                       19439 non-null  float64\n",
      " 45  rougher.output.concentrate_pb                       19439 non-null  float64\n",
      " 46  rougher.output.concentrate_sol                      19416 non-null  float64\n",
      " 47  rougher.output.concentrate_au                       19439 non-null  float64\n",
      " 48  rougher.output.recovery                             19439 non-null  float64\n",
      " 49  rougher.output.tail_ag                              19438 non-null  float64\n",
      " 50  rougher.output.tail_pb                              19439 non-null  float64\n",
      " 51  rougher.output.tail_sol                             19439 non-null  float64\n",
      " 52  rougher.output.tail_au                              19439 non-null  float64\n",
      " 53  rougher.state.floatbank10_a_air                     19438 non-null  float64\n",
      " 54  rougher.state.floatbank10_a_level                   19438 non-null  float64\n",
      " 55  rougher.state.floatbank10_b_air                     19438 non-null  float64\n",
      " 56  rougher.state.floatbank10_b_level                   19438 non-null  float64\n",
      " 57  rougher.state.floatbank10_c_air                     19438 non-null  float64\n",
      " 58  rougher.state.floatbank10_c_level                   19438 non-null  float64\n",
      " 59  rougher.state.floatbank10_d_air                     19439 non-null  float64\n",
      " 60  rougher.state.floatbank10_d_level                   19439 non-null  float64\n",
      " 61  rougher.state.floatbank10_e_air                     19003 non-null  float64\n",
      " 62  rougher.state.floatbank10_e_level                   19439 non-null  float64\n",
      " 63  rougher.state.floatbank10_f_air                     19439 non-null  float64\n",
      " 64  rougher.state.floatbank10_f_level                   19439 non-null  float64\n",
      " 65  secondary_cleaner.output.tail_ag                    19437 non-null  float64\n",
      " 66  secondary_cleaner.output.tail_pb                    19427 non-null  float64\n",
      " 67  secondary_cleaner.output.tail_sol                   17691 non-null  float64\n",
      " 68  secondary_cleaner.output.tail_au                    19439 non-null  float64\n",
      " 69  secondary_cleaner.state.floatbank2_a_air            19219 non-null  float64\n",
      " 70  secondary_cleaner.state.floatbank2_a_level          19438 non-null  float64\n",
      " 71  secondary_cleaner.state.floatbank2_b_air            19416 non-null  float64\n",
      " 72  secondary_cleaner.state.floatbank2_b_level          19438 non-null  float64\n",
      " 73  secondary_cleaner.state.floatbank3_a_air            19426 non-null  float64\n",
      " 74  secondary_cleaner.state.floatbank3_a_level          19438 non-null  float64\n",
      " 75  secondary_cleaner.state.floatbank3_b_air            19438 non-null  float64\n",
      " 76  secondary_cleaner.state.floatbank3_b_level          19438 non-null  float64\n",
      " 77  secondary_cleaner.state.floatbank4_a_air            19433 non-null  float64\n",
      " 78  secondary_cleaner.state.floatbank4_a_level          19438 non-null  float64\n",
      " 79  secondary_cleaner.state.floatbank4_b_air            19438 non-null  float64\n",
      " 80  secondary_cleaner.state.floatbank4_b_level          19438 non-null  float64\n",
      " 81  secondary_cleaner.state.floatbank5_a_air            19438 non-null  float64\n",
      " 82  secondary_cleaner.state.floatbank5_a_level          19438 non-null  float64\n",
      " 83  secondary_cleaner.state.floatbank5_b_air            19438 non-null  float64\n",
      " 84  secondary_cleaner.state.floatbank5_b_level          19438 non-null  float64\n",
      " 85  secondary_cleaner.state.floatbank6_a_air            19437 non-null  float64\n",
      " 86  secondary_cleaner.state.floatbank6_a_level          19438 non-null  float64\n",
      "dtypes: float64(86), object(1)\n",
      "memory usage: 12.9+ MB\n"
     ]
    }
   ],
   "source": [
    "#исходная выборка\n",
    "df.info()"
   ]
  },
  {
   "cell_type": "code",
   "execution_count": 5,
   "metadata": {
    "scrolled": true
   },
   "outputs": [
    {
     "data": {
      "text/html": [
       "<div>\n",
       "<style scoped>\n",
       "    .dataframe tbody tr th:only-of-type {\n",
       "        vertical-align: middle;\n",
       "    }\n",
       "\n",
       "    .dataframe tbody tr th {\n",
       "        vertical-align: top;\n",
       "    }\n",
       "\n",
       "    .dataframe thead th {\n",
       "        text-align: right;\n",
       "    }\n",
       "</style>\n",
       "<table border=\"1\" class=\"dataframe\">\n",
       "  <thead>\n",
       "    <tr style=\"text-align: right;\">\n",
       "      <th></th>\n",
       "      <th>date</th>\n",
       "      <th>final.output.concentrate_ag</th>\n",
       "      <th>final.output.concentrate_pb</th>\n",
       "      <th>final.output.concentrate_sol</th>\n",
       "      <th>final.output.concentrate_au</th>\n",
       "      <th>final.output.recovery</th>\n",
       "      <th>final.output.tail_ag</th>\n",
       "      <th>final.output.tail_pb</th>\n",
       "      <th>final.output.tail_sol</th>\n",
       "      <th>final.output.tail_au</th>\n",
       "      <th>...</th>\n",
       "      <th>secondary_cleaner.state.floatbank4_a_air</th>\n",
       "      <th>secondary_cleaner.state.floatbank4_a_level</th>\n",
       "      <th>secondary_cleaner.state.floatbank4_b_air</th>\n",
       "      <th>secondary_cleaner.state.floatbank4_b_level</th>\n",
       "      <th>secondary_cleaner.state.floatbank5_a_air</th>\n",
       "      <th>secondary_cleaner.state.floatbank5_a_level</th>\n",
       "      <th>secondary_cleaner.state.floatbank5_b_air</th>\n",
       "      <th>secondary_cleaner.state.floatbank5_b_level</th>\n",
       "      <th>secondary_cleaner.state.floatbank6_a_air</th>\n",
       "      <th>secondary_cleaner.state.floatbank6_a_level</th>\n",
       "    </tr>\n",
       "  </thead>\n",
       "  <tbody>\n",
       "    <tr>\n",
       "      <th>0</th>\n",
       "      <td>2016-01-15 00:00:00</td>\n",
       "      <td>6.055403</td>\n",
       "      <td>9.889648</td>\n",
       "      <td>5.507324</td>\n",
       "      <td>42.192020</td>\n",
       "      <td>70.541216</td>\n",
       "      <td>10.411962</td>\n",
       "      <td>0.895447</td>\n",
       "      <td>16.904297</td>\n",
       "      <td>2.143149</td>\n",
       "      <td>...</td>\n",
       "      <td>14.016835</td>\n",
       "      <td>-502.488007</td>\n",
       "      <td>12.099931</td>\n",
       "      <td>-504.715942</td>\n",
       "      <td>9.925633</td>\n",
       "      <td>-498.310211</td>\n",
       "      <td>8.079666</td>\n",
       "      <td>-500.470978</td>\n",
       "      <td>14.151341</td>\n",
       "      <td>-605.841980</td>\n",
       "    </tr>\n",
       "    <tr>\n",
       "      <th>1</th>\n",
       "      <td>2016-01-15 01:00:00</td>\n",
       "      <td>6.029369</td>\n",
       "      <td>9.968944</td>\n",
       "      <td>5.257781</td>\n",
       "      <td>42.701629</td>\n",
       "      <td>69.266198</td>\n",
       "      <td>10.462676</td>\n",
       "      <td>0.927452</td>\n",
       "      <td>16.634514</td>\n",
       "      <td>2.224930</td>\n",
       "      <td>...</td>\n",
       "      <td>13.992281</td>\n",
       "      <td>-505.503262</td>\n",
       "      <td>11.950531</td>\n",
       "      <td>-501.331529</td>\n",
       "      <td>10.039245</td>\n",
       "      <td>-500.169983</td>\n",
       "      <td>7.984757</td>\n",
       "      <td>-500.582168</td>\n",
       "      <td>13.998353</td>\n",
       "      <td>-599.787184</td>\n",
       "    </tr>\n",
       "    <tr>\n",
       "      <th>2</th>\n",
       "      <td>2016-01-15 02:00:00</td>\n",
       "      <td>6.055926</td>\n",
       "      <td>10.213995</td>\n",
       "      <td>5.383759</td>\n",
       "      <td>42.657501</td>\n",
       "      <td>68.116445</td>\n",
       "      <td>10.507046</td>\n",
       "      <td>0.953716</td>\n",
       "      <td>16.208849</td>\n",
       "      <td>2.257889</td>\n",
       "      <td>...</td>\n",
       "      <td>14.015015</td>\n",
       "      <td>-502.520901</td>\n",
       "      <td>11.912783</td>\n",
       "      <td>-501.133383</td>\n",
       "      <td>10.070913</td>\n",
       "      <td>-500.129135</td>\n",
       "      <td>8.013877</td>\n",
       "      <td>-500.517572</td>\n",
       "      <td>14.028663</td>\n",
       "      <td>-601.427363</td>\n",
       "    </tr>\n",
       "    <tr>\n",
       "      <th>3</th>\n",
       "      <td>2016-01-15 03:00:00</td>\n",
       "      <td>6.047977</td>\n",
       "      <td>9.977019</td>\n",
       "      <td>4.858634</td>\n",
       "      <td>42.689819</td>\n",
       "      <td>68.347543</td>\n",
       "      <td>10.422762</td>\n",
       "      <td>0.883763</td>\n",
       "      <td>16.532835</td>\n",
       "      <td>2.146849</td>\n",
       "      <td>...</td>\n",
       "      <td>14.036510</td>\n",
       "      <td>-500.857308</td>\n",
       "      <td>11.999550</td>\n",
       "      <td>-501.193686</td>\n",
       "      <td>9.970366</td>\n",
       "      <td>-499.201640</td>\n",
       "      <td>7.977324</td>\n",
       "      <td>-500.255908</td>\n",
       "      <td>14.005551</td>\n",
       "      <td>-599.996129</td>\n",
       "    </tr>\n",
       "    <tr>\n",
       "      <th>4</th>\n",
       "      <td>2016-01-15 04:00:00</td>\n",
       "      <td>6.148599</td>\n",
       "      <td>10.142511</td>\n",
       "      <td>4.939416</td>\n",
       "      <td>42.774141</td>\n",
       "      <td>66.927016</td>\n",
       "      <td>10.360302</td>\n",
       "      <td>0.792826</td>\n",
       "      <td>16.525686</td>\n",
       "      <td>2.055292</td>\n",
       "      <td>...</td>\n",
       "      <td>14.027298</td>\n",
       "      <td>-499.838632</td>\n",
       "      <td>11.953070</td>\n",
       "      <td>-501.053894</td>\n",
       "      <td>9.925709</td>\n",
       "      <td>-501.686727</td>\n",
       "      <td>7.894242</td>\n",
       "      <td>-500.356035</td>\n",
       "      <td>13.996647</td>\n",
       "      <td>-601.496691</td>\n",
       "    </tr>\n",
       "    <tr>\n",
       "      <th>5</th>\n",
       "      <td>2016-01-15 05:00:00</td>\n",
       "      <td>6.482968</td>\n",
       "      <td>10.049416</td>\n",
       "      <td>5.480257</td>\n",
       "      <td>41.633678</td>\n",
       "      <td>69.465816</td>\n",
       "      <td>10.182708</td>\n",
       "      <td>0.664118</td>\n",
       "      <td>16.999638</td>\n",
       "      <td>1.918586</td>\n",
       "      <td>...</td>\n",
       "      <td>13.938497</td>\n",
       "      <td>-500.970168</td>\n",
       "      <td>11.883350</td>\n",
       "      <td>-500.395298</td>\n",
       "      <td>10.054147</td>\n",
       "      <td>-496.374715</td>\n",
       "      <td>7.965083</td>\n",
       "      <td>-499.364752</td>\n",
       "      <td>14.017067</td>\n",
       "      <td>-599.707915</td>\n",
       "    </tr>\n",
       "    <tr>\n",
       "      <th>6</th>\n",
       "      <td>2016-01-15 06:00:00</td>\n",
       "      <td>6.533849</td>\n",
       "      <td>10.058141</td>\n",
       "      <td>4.569100</td>\n",
       "      <td>41.995316</td>\n",
       "      <td>69.300835</td>\n",
       "      <td>10.304598</td>\n",
       "      <td>0.807342</td>\n",
       "      <td>16.723575</td>\n",
       "      <td>2.058913</td>\n",
       "      <td>...</td>\n",
       "      <td>14.046819</td>\n",
       "      <td>-500.971133</td>\n",
       "      <td>12.091543</td>\n",
       "      <td>-500.501426</td>\n",
       "      <td>10.003247</td>\n",
       "      <td>-497.083180</td>\n",
       "      <td>8.010890</td>\n",
       "      <td>-500.002423</td>\n",
       "      <td>14.029649</td>\n",
       "      <td>-600.905470</td>\n",
       "    </tr>\n",
       "    <tr>\n",
       "      <th>7</th>\n",
       "      <td>2016-01-15 07:00:00</td>\n",
       "      <td>6.130823</td>\n",
       "      <td>9.935481</td>\n",
       "      <td>4.389813</td>\n",
       "      <td>42.452727</td>\n",
       "      <td>70.230976</td>\n",
       "      <td>10.443288</td>\n",
       "      <td>0.949346</td>\n",
       "      <td>16.689959</td>\n",
       "      <td>2.143437</td>\n",
       "      <td>...</td>\n",
       "      <td>13.974691</td>\n",
       "      <td>-501.819696</td>\n",
       "      <td>12.101324</td>\n",
       "      <td>-500.583446</td>\n",
       "      <td>9.873169</td>\n",
       "      <td>-499.171928</td>\n",
       "      <td>7.993381</td>\n",
       "      <td>-499.794518</td>\n",
       "      <td>13.984498</td>\n",
       "      <td>-600.411070</td>\n",
       "    </tr>\n",
       "    <tr>\n",
       "      <th>8</th>\n",
       "      <td>2016-01-15 08:00:00</td>\n",
       "      <td>5.834140</td>\n",
       "      <td>10.071156</td>\n",
       "      <td>4.876389</td>\n",
       "      <td>43.404078</td>\n",
       "      <td>69.688595</td>\n",
       "      <td>10.420140</td>\n",
       "      <td>1.065453</td>\n",
       "      <td>17.201948</td>\n",
       "      <td>2.209881</td>\n",
       "      <td>...</td>\n",
       "      <td>13.964030</td>\n",
       "      <td>-504.252450</td>\n",
       "      <td>12.060738</td>\n",
       "      <td>-501.174549</td>\n",
       "      <td>10.033838</td>\n",
       "      <td>-501.178133</td>\n",
       "      <td>7.881604</td>\n",
       "      <td>-499.729434</td>\n",
       "      <td>13.967135</td>\n",
       "      <td>-599.061188</td>\n",
       "    </tr>\n",
       "    <tr>\n",
       "      <th>9</th>\n",
       "      <td>2016-01-15 09:00:00</td>\n",
       "      <td>5.687063</td>\n",
       "      <td>9.980404</td>\n",
       "      <td>5.282514</td>\n",
       "      <td>43.235220</td>\n",
       "      <td>70.279619</td>\n",
       "      <td>10.487013</td>\n",
       "      <td>1.159805</td>\n",
       "      <td>17.483979</td>\n",
       "      <td>2.209593</td>\n",
       "      <td>...</td>\n",
       "      <td>13.989632</td>\n",
       "      <td>-503.195299</td>\n",
       "      <td>12.052233</td>\n",
       "      <td>-500.928547</td>\n",
       "      <td>9.962574</td>\n",
       "      <td>-502.986357</td>\n",
       "      <td>7.979219</td>\n",
       "      <td>-500.146835</td>\n",
       "      <td>13.981614</td>\n",
       "      <td>-598.070855</td>\n",
       "    </tr>\n",
       "    <tr>\n",
       "      <th>10</th>\n",
       "      <td>2016-01-15 10:00:00</td>\n",
       "      <td>5.706261</td>\n",
       "      <td>10.242511</td>\n",
       "      <td>5.214161</td>\n",
       "      <td>43.487291</td>\n",
       "      <td>70.973641</td>\n",
       "      <td>10.473539</td>\n",
       "      <td>1.171183</td>\n",
       "      <td>17.717049</td>\n",
       "      <td>2.200997</td>\n",
       "      <td>...</td>\n",
       "      <td>14.008944</td>\n",
       "      <td>-504.170807</td>\n",
       "      <td>11.995903</td>\n",
       "      <td>-501.269181</td>\n",
       "      <td>10.043100</td>\n",
       "      <td>-498.529996</td>\n",
       "      <td>8.002633</td>\n",
       "      <td>-499.761922</td>\n",
       "      <td>14.004767</td>\n",
       "      <td>-599.595324</td>\n",
       "    </tr>\n",
       "    <tr>\n",
       "      <th>11</th>\n",
       "      <td>2016-01-15 11:00:00</td>\n",
       "      <td>5.582300</td>\n",
       "      <td>10.029878</td>\n",
       "      <td>5.751567</td>\n",
       "      <td>43.467440</td>\n",
       "      <td>71.380681</td>\n",
       "      <td>10.394314</td>\n",
       "      <td>1.087722</td>\n",
       "      <td>18.059770</td>\n",
       "      <td>2.098777</td>\n",
       "      <td>...</td>\n",
       "      <td>14.029704</td>\n",
       "      <td>-503.940828</td>\n",
       "      <td>12.022296</td>\n",
       "      <td>-501.238477</td>\n",
       "      <td>10.020094</td>\n",
       "      <td>-500.061845</td>\n",
       "      <td>7.964024</td>\n",
       "      <td>-499.283982</td>\n",
       "      <td>14.003011</td>\n",
       "      <td>-599.879856</td>\n",
       "    </tr>\n",
       "    <tr>\n",
       "      <th>12</th>\n",
       "      <td>2016-01-15 12:00:00</td>\n",
       "      <td>5.664983</td>\n",
       "      <td>10.168953</td>\n",
       "      <td>5.484318</td>\n",
       "      <td>43.339714</td>\n",
       "      <td>72.659046</td>\n",
       "      <td>10.475957</td>\n",
       "      <td>1.050592</td>\n",
       "      <td>17.525656</td>\n",
       "      <td>2.064422</td>\n",
       "      <td>...</td>\n",
       "      <td>13.983963</td>\n",
       "      <td>-503.675714</td>\n",
       "      <td>11.928745</td>\n",
       "      <td>-500.583183</td>\n",
       "      <td>9.970359</td>\n",
       "      <td>-498.822343</td>\n",
       "      <td>8.016377</td>\n",
       "      <td>-499.013145</td>\n",
       "      <td>14.000032</td>\n",
       "      <td>-600.024741</td>\n",
       "    </tr>\n",
       "    <tr>\n",
       "      <th>13</th>\n",
       "      <td>2016-01-15 13:00:00</td>\n",
       "      <td>5.474776</td>\n",
       "      <td>9.813218</td>\n",
       "      <td>5.587525</td>\n",
       "      <td>44.099758</td>\n",
       "      <td>73.588844</td>\n",
       "      <td>10.378293</td>\n",
       "      <td>0.900833</td>\n",
       "      <td>17.464201</td>\n",
       "      <td>1.975039</td>\n",
       "      <td>...</td>\n",
       "      <td>13.981325</td>\n",
       "      <td>-504.947519</td>\n",
       "      <td>12.014060</td>\n",
       "      <td>-500.647565</td>\n",
       "      <td>10.000087</td>\n",
       "      <td>-499.306972</td>\n",
       "      <td>8.002007</td>\n",
       "      <td>-499.970754</td>\n",
       "      <td>14.019977</td>\n",
       "      <td>-599.986714</td>\n",
       "    </tr>\n",
       "    <tr>\n",
       "      <th>14</th>\n",
       "      <td>2016-01-15 14:00:00</td>\n",
       "      <td>5.437716</td>\n",
       "      <td>9.781181</td>\n",
       "      <td>6.057627</td>\n",
       "      <td>44.284117</td>\n",
       "      <td>70.847012</td>\n",
       "      <td>10.324415</td>\n",
       "      <td>0.961210</td>\n",
       "      <td>18.185262</td>\n",
       "      <td>2.161256</td>\n",
       "      <td>...</td>\n",
       "      <td>13.996317</td>\n",
       "      <td>-502.995300</td>\n",
       "      <td>11.980055</td>\n",
       "      <td>-500.607751</td>\n",
       "      <td>9.964501</td>\n",
       "      <td>-499.261719</td>\n",
       "      <td>8.065048</td>\n",
       "      <td>-499.492395</td>\n",
       "      <td>13.997801</td>\n",
       "      <td>-600.621416</td>\n",
       "    </tr>\n",
       "    <tr>\n",
       "      <th>15</th>\n",
       "      <td>2016-01-15 15:00:00</td>\n",
       "      <td>5.454277</td>\n",
       "      <td>10.019066</td>\n",
       "      <td>5.744694</td>\n",
       "      <td>44.081600</td>\n",
       "      <td>68.753219</td>\n",
       "      <td>10.352547</td>\n",
       "      <td>1.137378</td>\n",
       "      <td>18.431646</td>\n",
       "      <td>2.336759</td>\n",
       "      <td>...</td>\n",
       "      <td>14.015223</td>\n",
       "      <td>-503.202022</td>\n",
       "      <td>11.994299</td>\n",
       "      <td>-500.337803</td>\n",
       "      <td>10.037149</td>\n",
       "      <td>-499.395047</td>\n",
       "      <td>8.056439</td>\n",
       "      <td>-499.479716</td>\n",
       "      <td>13.977626</td>\n",
       "      <td>-600.075029</td>\n",
       "    </tr>\n",
       "    <tr>\n",
       "      <th>16</th>\n",
       "      <td>2016-01-15 16:00:00</td>\n",
       "      <td>5.410126</td>\n",
       "      <td>10.868937</td>\n",
       "      <td>6.258693</td>\n",
       "      <td>43.440341</td>\n",
       "      <td>67.839536</td>\n",
       "      <td>10.382891</td>\n",
       "      <td>1.239738</td>\n",
       "      <td>18.544924</td>\n",
       "      <td>2.423143</td>\n",
       "      <td>...</td>\n",
       "      <td>14.031220</td>\n",
       "      <td>-503.471307</td>\n",
       "      <td>11.966426</td>\n",
       "      <td>-500.656842</td>\n",
       "      <td>10.051620</td>\n",
       "      <td>-498.318772</td>\n",
       "      <td>8.018091</td>\n",
       "      <td>-499.696138</td>\n",
       "      <td>13.958937</td>\n",
       "      <td>-599.213013</td>\n",
       "    </tr>\n",
       "    <tr>\n",
       "      <th>17</th>\n",
       "      <td>2016-01-15 17:00:00</td>\n",
       "      <td>5.572499</td>\n",
       "      <td>10.841483</td>\n",
       "      <td>6.841936</td>\n",
       "      <td>42.844534</td>\n",
       "      <td>69.633763</td>\n",
       "      <td>10.349616</td>\n",
       "      <td>1.179975</td>\n",
       "      <td>18.748028</td>\n",
       "      <td>2.327442</td>\n",
       "      <td>...</td>\n",
       "      <td>14.019768</td>\n",
       "      <td>-541.569984</td>\n",
       "      <td>12.021831</td>\n",
       "      <td>-545.572166</td>\n",
       "      <td>10.021058</td>\n",
       "      <td>-501.386982</td>\n",
       "      <td>7.947110</td>\n",
       "      <td>-500.062750</td>\n",
       "      <td>14.014991</td>\n",
       "      <td>-600.670573</td>\n",
       "    </tr>\n",
       "    <tr>\n",
       "      <th>18</th>\n",
       "      <td>2016-01-15 18:00:00</td>\n",
       "      <td>5.719113</td>\n",
       "      <td>10.621027</td>\n",
       "      <td>6.459561</td>\n",
       "      <td>42.435181</td>\n",
       "      <td>68.786981</td>\n",
       "      <td>10.286797</td>\n",
       "      <td>1.171459</td>\n",
       "      <td>19.131121</td>\n",
       "      <td>2.314786</td>\n",
       "      <td>...</td>\n",
       "      <td>14.003057</td>\n",
       "      <td>-503.152258</td>\n",
       "      <td>12.016724</td>\n",
       "      <td>-501.136446</td>\n",
       "      <td>10.041864</td>\n",
       "      <td>-499.338844</td>\n",
       "      <td>8.007022</td>\n",
       "      <td>-500.279583</td>\n",
       "      <td>14.001271</td>\n",
       "      <td>-602.072365</td>\n",
       "    </tr>\n",
       "    <tr>\n",
       "      <th>19</th>\n",
       "      <td>2016-01-15 19:00:00</td>\n",
       "      <td>5.658943</td>\n",
       "      <td>10.436002</td>\n",
       "      <td>5.942418</td>\n",
       "      <td>42.509402</td>\n",
       "      <td>70.348300</td>\n",
       "      <td>10.232392</td>\n",
       "      <td>1.174845</td>\n",
       "      <td>19.498566</td>\n",
       "      <td>2.272460</td>\n",
       "      <td>...</td>\n",
       "      <td>14.001632</td>\n",
       "      <td>-509.808331</td>\n",
       "      <td>12.087669</td>\n",
       "      <td>-510.782166</td>\n",
       "      <td>10.032043</td>\n",
       "      <td>-499.128183</td>\n",
       "      <td>8.016140</td>\n",
       "      <td>-499.806844</td>\n",
       "      <td>13.949790</td>\n",
       "      <td>-600.140776</td>\n",
       "    </tr>\n",
       "  </tbody>\n",
       "</table>\n",
       "<p>20 rows × 87 columns</p>\n",
       "</div>"
      ],
      "text/plain": [
       "                   date  final.output.concentrate_ag  \\\n",
       "0   2016-01-15 00:00:00                     6.055403   \n",
       "1   2016-01-15 01:00:00                     6.029369   \n",
       "2   2016-01-15 02:00:00                     6.055926   \n",
       "3   2016-01-15 03:00:00                     6.047977   \n",
       "4   2016-01-15 04:00:00                     6.148599   \n",
       "5   2016-01-15 05:00:00                     6.482968   \n",
       "6   2016-01-15 06:00:00                     6.533849   \n",
       "7   2016-01-15 07:00:00                     6.130823   \n",
       "8   2016-01-15 08:00:00                     5.834140   \n",
       "9   2016-01-15 09:00:00                     5.687063   \n",
       "10  2016-01-15 10:00:00                     5.706261   \n",
       "11  2016-01-15 11:00:00                     5.582300   \n",
       "12  2016-01-15 12:00:00                     5.664983   \n",
       "13  2016-01-15 13:00:00                     5.474776   \n",
       "14  2016-01-15 14:00:00                     5.437716   \n",
       "15  2016-01-15 15:00:00                     5.454277   \n",
       "16  2016-01-15 16:00:00                     5.410126   \n",
       "17  2016-01-15 17:00:00                     5.572499   \n",
       "18  2016-01-15 18:00:00                     5.719113   \n",
       "19  2016-01-15 19:00:00                     5.658943   \n",
       "\n",
       "    final.output.concentrate_pb  final.output.concentrate_sol  \\\n",
       "0                      9.889648                      5.507324   \n",
       "1                      9.968944                      5.257781   \n",
       "2                     10.213995                      5.383759   \n",
       "3                      9.977019                      4.858634   \n",
       "4                     10.142511                      4.939416   \n",
       "5                     10.049416                      5.480257   \n",
       "6                     10.058141                      4.569100   \n",
       "7                      9.935481                      4.389813   \n",
       "8                     10.071156                      4.876389   \n",
       "9                      9.980404                      5.282514   \n",
       "10                    10.242511                      5.214161   \n",
       "11                    10.029878                      5.751567   \n",
       "12                    10.168953                      5.484318   \n",
       "13                     9.813218                      5.587525   \n",
       "14                     9.781181                      6.057627   \n",
       "15                    10.019066                      5.744694   \n",
       "16                    10.868937                      6.258693   \n",
       "17                    10.841483                      6.841936   \n",
       "18                    10.621027                      6.459561   \n",
       "19                    10.436002                      5.942418   \n",
       "\n",
       "    final.output.concentrate_au  final.output.recovery  final.output.tail_ag  \\\n",
       "0                     42.192020              70.541216             10.411962   \n",
       "1                     42.701629              69.266198             10.462676   \n",
       "2                     42.657501              68.116445             10.507046   \n",
       "3                     42.689819              68.347543             10.422762   \n",
       "4                     42.774141              66.927016             10.360302   \n",
       "5                     41.633678              69.465816             10.182708   \n",
       "6                     41.995316              69.300835             10.304598   \n",
       "7                     42.452727              70.230976             10.443288   \n",
       "8                     43.404078              69.688595             10.420140   \n",
       "9                     43.235220              70.279619             10.487013   \n",
       "10                    43.487291              70.973641             10.473539   \n",
       "11                    43.467440              71.380681             10.394314   \n",
       "12                    43.339714              72.659046             10.475957   \n",
       "13                    44.099758              73.588844             10.378293   \n",
       "14                    44.284117              70.847012             10.324415   \n",
       "15                    44.081600              68.753219             10.352547   \n",
       "16                    43.440341              67.839536             10.382891   \n",
       "17                    42.844534              69.633763             10.349616   \n",
       "18                    42.435181              68.786981             10.286797   \n",
       "19                    42.509402              70.348300             10.232392   \n",
       "\n",
       "    final.output.tail_pb  final.output.tail_sol  final.output.tail_au  ...  \\\n",
       "0               0.895447              16.904297              2.143149  ...   \n",
       "1               0.927452              16.634514              2.224930  ...   \n",
       "2               0.953716              16.208849              2.257889  ...   \n",
       "3               0.883763              16.532835              2.146849  ...   \n",
       "4               0.792826              16.525686              2.055292  ...   \n",
       "5               0.664118              16.999638              1.918586  ...   \n",
       "6               0.807342              16.723575              2.058913  ...   \n",
       "7               0.949346              16.689959              2.143437  ...   \n",
       "8               1.065453              17.201948              2.209881  ...   \n",
       "9               1.159805              17.483979              2.209593  ...   \n",
       "10              1.171183              17.717049              2.200997  ...   \n",
       "11              1.087722              18.059770              2.098777  ...   \n",
       "12              1.050592              17.525656              2.064422  ...   \n",
       "13              0.900833              17.464201              1.975039  ...   \n",
       "14              0.961210              18.185262              2.161256  ...   \n",
       "15              1.137378              18.431646              2.336759  ...   \n",
       "16              1.239738              18.544924              2.423143  ...   \n",
       "17              1.179975              18.748028              2.327442  ...   \n",
       "18              1.171459              19.131121              2.314786  ...   \n",
       "19              1.174845              19.498566              2.272460  ...   \n",
       "\n",
       "    secondary_cleaner.state.floatbank4_a_air  \\\n",
       "0                                  14.016835   \n",
       "1                                  13.992281   \n",
       "2                                  14.015015   \n",
       "3                                  14.036510   \n",
       "4                                  14.027298   \n",
       "5                                  13.938497   \n",
       "6                                  14.046819   \n",
       "7                                  13.974691   \n",
       "8                                  13.964030   \n",
       "9                                  13.989632   \n",
       "10                                 14.008944   \n",
       "11                                 14.029704   \n",
       "12                                 13.983963   \n",
       "13                                 13.981325   \n",
       "14                                 13.996317   \n",
       "15                                 14.015223   \n",
       "16                                 14.031220   \n",
       "17                                 14.019768   \n",
       "18                                 14.003057   \n",
       "19                                 14.001632   \n",
       "\n",
       "    secondary_cleaner.state.floatbank4_a_level  \\\n",
       "0                                  -502.488007   \n",
       "1                                  -505.503262   \n",
       "2                                  -502.520901   \n",
       "3                                  -500.857308   \n",
       "4                                  -499.838632   \n",
       "5                                  -500.970168   \n",
       "6                                  -500.971133   \n",
       "7                                  -501.819696   \n",
       "8                                  -504.252450   \n",
       "9                                  -503.195299   \n",
       "10                                 -504.170807   \n",
       "11                                 -503.940828   \n",
       "12                                 -503.675714   \n",
       "13                                 -504.947519   \n",
       "14                                 -502.995300   \n",
       "15                                 -503.202022   \n",
       "16                                 -503.471307   \n",
       "17                                 -541.569984   \n",
       "18                                 -503.152258   \n",
       "19                                 -509.808331   \n",
       "\n",
       "    secondary_cleaner.state.floatbank4_b_air  \\\n",
       "0                                  12.099931   \n",
       "1                                  11.950531   \n",
       "2                                  11.912783   \n",
       "3                                  11.999550   \n",
       "4                                  11.953070   \n",
       "5                                  11.883350   \n",
       "6                                  12.091543   \n",
       "7                                  12.101324   \n",
       "8                                  12.060738   \n",
       "9                                  12.052233   \n",
       "10                                 11.995903   \n",
       "11                                 12.022296   \n",
       "12                                 11.928745   \n",
       "13                                 12.014060   \n",
       "14                                 11.980055   \n",
       "15                                 11.994299   \n",
       "16                                 11.966426   \n",
       "17                                 12.021831   \n",
       "18                                 12.016724   \n",
       "19                                 12.087669   \n",
       "\n",
       "    secondary_cleaner.state.floatbank4_b_level  \\\n",
       "0                                  -504.715942   \n",
       "1                                  -501.331529   \n",
       "2                                  -501.133383   \n",
       "3                                  -501.193686   \n",
       "4                                  -501.053894   \n",
       "5                                  -500.395298   \n",
       "6                                  -500.501426   \n",
       "7                                  -500.583446   \n",
       "8                                  -501.174549   \n",
       "9                                  -500.928547   \n",
       "10                                 -501.269181   \n",
       "11                                 -501.238477   \n",
       "12                                 -500.583183   \n",
       "13                                 -500.647565   \n",
       "14                                 -500.607751   \n",
       "15                                 -500.337803   \n",
       "16                                 -500.656842   \n",
       "17                                 -545.572166   \n",
       "18                                 -501.136446   \n",
       "19                                 -510.782166   \n",
       "\n",
       "    secondary_cleaner.state.floatbank5_a_air  \\\n",
       "0                                   9.925633   \n",
       "1                                  10.039245   \n",
       "2                                  10.070913   \n",
       "3                                   9.970366   \n",
       "4                                   9.925709   \n",
       "5                                  10.054147   \n",
       "6                                  10.003247   \n",
       "7                                   9.873169   \n",
       "8                                  10.033838   \n",
       "9                                   9.962574   \n",
       "10                                 10.043100   \n",
       "11                                 10.020094   \n",
       "12                                  9.970359   \n",
       "13                                 10.000087   \n",
       "14                                  9.964501   \n",
       "15                                 10.037149   \n",
       "16                                 10.051620   \n",
       "17                                 10.021058   \n",
       "18                                 10.041864   \n",
       "19                                 10.032043   \n",
       "\n",
       "    secondary_cleaner.state.floatbank5_a_level  \\\n",
       "0                                  -498.310211   \n",
       "1                                  -500.169983   \n",
       "2                                  -500.129135   \n",
       "3                                  -499.201640   \n",
       "4                                  -501.686727   \n",
       "5                                  -496.374715   \n",
       "6                                  -497.083180   \n",
       "7                                  -499.171928   \n",
       "8                                  -501.178133   \n",
       "9                                  -502.986357   \n",
       "10                                 -498.529996   \n",
       "11                                 -500.061845   \n",
       "12                                 -498.822343   \n",
       "13                                 -499.306972   \n",
       "14                                 -499.261719   \n",
       "15                                 -499.395047   \n",
       "16                                 -498.318772   \n",
       "17                                 -501.386982   \n",
       "18                                 -499.338844   \n",
       "19                                 -499.128183   \n",
       "\n",
       "    secondary_cleaner.state.floatbank5_b_air  \\\n",
       "0                                   8.079666   \n",
       "1                                   7.984757   \n",
       "2                                   8.013877   \n",
       "3                                   7.977324   \n",
       "4                                   7.894242   \n",
       "5                                   7.965083   \n",
       "6                                   8.010890   \n",
       "7                                   7.993381   \n",
       "8                                   7.881604   \n",
       "9                                   7.979219   \n",
       "10                                  8.002633   \n",
       "11                                  7.964024   \n",
       "12                                  8.016377   \n",
       "13                                  8.002007   \n",
       "14                                  8.065048   \n",
       "15                                  8.056439   \n",
       "16                                  8.018091   \n",
       "17                                  7.947110   \n",
       "18                                  8.007022   \n",
       "19                                  8.016140   \n",
       "\n",
       "    secondary_cleaner.state.floatbank5_b_level  \\\n",
       "0                                  -500.470978   \n",
       "1                                  -500.582168   \n",
       "2                                  -500.517572   \n",
       "3                                  -500.255908   \n",
       "4                                  -500.356035   \n",
       "5                                  -499.364752   \n",
       "6                                  -500.002423   \n",
       "7                                  -499.794518   \n",
       "8                                  -499.729434   \n",
       "9                                  -500.146835   \n",
       "10                                 -499.761922   \n",
       "11                                 -499.283982   \n",
       "12                                 -499.013145   \n",
       "13                                 -499.970754   \n",
       "14                                 -499.492395   \n",
       "15                                 -499.479716   \n",
       "16                                 -499.696138   \n",
       "17                                 -500.062750   \n",
       "18                                 -500.279583   \n",
       "19                                 -499.806844   \n",
       "\n",
       "    secondary_cleaner.state.floatbank6_a_air  \\\n",
       "0                                  14.151341   \n",
       "1                                  13.998353   \n",
       "2                                  14.028663   \n",
       "3                                  14.005551   \n",
       "4                                  13.996647   \n",
       "5                                  14.017067   \n",
       "6                                  14.029649   \n",
       "7                                  13.984498   \n",
       "8                                  13.967135   \n",
       "9                                  13.981614   \n",
       "10                                 14.004767   \n",
       "11                                 14.003011   \n",
       "12                                 14.000032   \n",
       "13                                 14.019977   \n",
       "14                                 13.997801   \n",
       "15                                 13.977626   \n",
       "16                                 13.958937   \n",
       "17                                 14.014991   \n",
       "18                                 14.001271   \n",
       "19                                 13.949790   \n",
       "\n",
       "    secondary_cleaner.state.floatbank6_a_level  \n",
       "0                                  -605.841980  \n",
       "1                                  -599.787184  \n",
       "2                                  -601.427363  \n",
       "3                                  -599.996129  \n",
       "4                                  -601.496691  \n",
       "5                                  -599.707915  \n",
       "6                                  -600.905470  \n",
       "7                                  -600.411070  \n",
       "8                                  -599.061188  \n",
       "9                                  -598.070855  \n",
       "10                                 -599.595324  \n",
       "11                                 -599.879856  \n",
       "12                                 -600.024741  \n",
       "13                                 -599.986714  \n",
       "14                                 -600.621416  \n",
       "15                                 -600.075029  \n",
       "16                                 -599.213013  \n",
       "17                                 -600.670573  \n",
       "18                                 -602.072365  \n",
       "19                                 -600.140776  \n",
       "\n",
       "[20 rows x 87 columns]"
      ]
     },
     "execution_count": 5,
     "metadata": {},
     "output_type": "execute_result"
    }
   ],
   "source": [
    "df.head(20)"
   ]
  },
  {
   "cell_type": "code",
   "execution_count": 6,
   "metadata": {
    "scrolled": true
   },
   "outputs": [
    {
     "name": "stdout",
     "output_type": "stream",
     "text": [
      "<class 'pandas.core.frame.DataFrame'>\n",
      "RangeIndex: 14149 entries, 0 to 14148\n",
      "Data columns (total 87 columns):\n",
      " #   Column                                              Non-Null Count  Dtype  \n",
      "---  ------                                              --------------  -----  \n",
      " 0   date                                                14149 non-null  object \n",
      " 1   final.output.concentrate_ag                         14148 non-null  float64\n",
      " 2   final.output.concentrate_pb                         14148 non-null  float64\n",
      " 3   final.output.concentrate_sol                        13938 non-null  float64\n",
      " 4   final.output.concentrate_au                         14149 non-null  float64\n",
      " 5   final.output.recovery                               14149 non-null  float64\n",
      " 6   final.output.tail_ag                                14149 non-null  float64\n",
      " 7   final.output.tail_pb                                14049 non-null  float64\n",
      " 8   final.output.tail_sol                               14144 non-null  float64\n",
      " 9   final.output.tail_au                                14149 non-null  float64\n",
      " 10  primary_cleaner.input.sulfate                       14129 non-null  float64\n",
      " 11  primary_cleaner.input.depressant                    14117 non-null  float64\n",
      " 12  primary_cleaner.input.feed_size                     14149 non-null  float64\n",
      " 13  primary_cleaner.input.xanthate                      14049 non-null  float64\n",
      " 14  primary_cleaner.output.concentrate_ag               14149 non-null  float64\n",
      " 15  primary_cleaner.output.concentrate_pb               14063 non-null  float64\n",
      " 16  primary_cleaner.output.concentrate_sol              13863 non-null  float64\n",
      " 17  primary_cleaner.output.concentrate_au               14149 non-null  float64\n",
      " 18  primary_cleaner.output.tail_ag                      14148 non-null  float64\n",
      " 19  primary_cleaner.output.tail_pb                      14134 non-null  float64\n",
      " 20  primary_cleaner.output.tail_sol                     14103 non-null  float64\n",
      " 21  primary_cleaner.output.tail_au                      14149 non-null  float64\n",
      " 22  primary_cleaner.state.floatbank8_a_air              14145 non-null  float64\n",
      " 23  primary_cleaner.state.floatbank8_a_level            14148 non-null  float64\n",
      " 24  primary_cleaner.state.floatbank8_b_air              14145 non-null  float64\n",
      " 25  primary_cleaner.state.floatbank8_b_level            14148 non-null  float64\n",
      " 26  primary_cleaner.state.floatbank8_c_air              14147 non-null  float64\n",
      " 27  primary_cleaner.state.floatbank8_c_level            14148 non-null  float64\n",
      " 28  primary_cleaner.state.floatbank8_d_air              14146 non-null  float64\n",
      " 29  primary_cleaner.state.floatbank8_d_level            14148 non-null  float64\n",
      " 30  rougher.calculation.sulfate_to_au_concentrate       14148 non-null  float64\n",
      " 31  rougher.calculation.floatbank10_sulfate_to_au_feed  14148 non-null  float64\n",
      " 32  rougher.calculation.floatbank11_sulfate_to_au_feed  14148 non-null  float64\n",
      " 33  rougher.calculation.au_pb_ratio                     14149 non-null  float64\n",
      " 34  rougher.input.feed_ag                               14149 non-null  float64\n",
      " 35  rougher.input.feed_pb                               14049 non-null  float64\n",
      " 36  rougher.input.feed_rate                             14141 non-null  float64\n",
      " 37  rougher.input.feed_size                             14005 non-null  float64\n",
      " 38  rougher.input.feed_sol                              14071 non-null  float64\n",
      " 39  rougher.input.feed_au                               14149 non-null  float64\n",
      " 40  rougher.input.floatbank10_sulfate                   14120 non-null  float64\n",
      " 41  rougher.input.floatbank10_xanthate                  14141 non-null  float64\n",
      " 42  rougher.input.floatbank11_sulfate                   14113 non-null  float64\n",
      " 43  rougher.input.floatbank11_xanthate                  13721 non-null  float64\n",
      " 44  rougher.output.concentrate_ag                       14149 non-null  float64\n",
      " 45  rougher.output.concentrate_pb                       14149 non-null  float64\n",
      " 46  rougher.output.concentrate_sol                      14127 non-null  float64\n",
      " 47  rougher.output.concentrate_au                       14149 non-null  float64\n",
      " 48  rougher.output.recovery                             14149 non-null  float64\n",
      " 49  rougher.output.tail_ag                              14148 non-null  float64\n",
      " 50  rougher.output.tail_pb                              14149 non-null  float64\n",
      " 51  rougher.output.tail_sol                             14149 non-null  float64\n",
      " 52  rougher.output.tail_au                              14149 non-null  float64\n",
      " 53  rougher.state.floatbank10_a_air                     14148 non-null  float64\n",
      " 54  rougher.state.floatbank10_a_level                   14148 non-null  float64\n",
      " 55  rougher.state.floatbank10_b_air                     14148 non-null  float64\n",
      " 56  rougher.state.floatbank10_b_level                   14148 non-null  float64\n",
      " 57  rougher.state.floatbank10_c_air                     14148 non-null  float64\n",
      " 58  rougher.state.floatbank10_c_level                   14148 non-null  float64\n",
      " 59  rougher.state.floatbank10_d_air                     14149 non-null  float64\n",
      " 60  rougher.state.floatbank10_d_level                   14149 non-null  float64\n",
      " 61  rougher.state.floatbank10_e_air                     13713 non-null  float64\n",
      " 62  rougher.state.floatbank10_e_level                   14149 non-null  float64\n",
      " 63  rougher.state.floatbank10_f_air                     14149 non-null  float64\n",
      " 64  rougher.state.floatbank10_f_level                   14149 non-null  float64\n",
      " 65  secondary_cleaner.output.tail_ag                    14147 non-null  float64\n",
      " 66  secondary_cleaner.output.tail_pb                    14139 non-null  float64\n",
      " 67  secondary_cleaner.output.tail_sol                   12544 non-null  float64\n",
      " 68  secondary_cleaner.output.tail_au                    14149 non-null  float64\n",
      " 69  secondary_cleaner.state.floatbank2_a_air            13932 non-null  float64\n",
      " 70  secondary_cleaner.state.floatbank2_a_level          14148 non-null  float64\n",
      " 71  secondary_cleaner.state.floatbank2_b_air            14128 non-null  float64\n",
      " 72  secondary_cleaner.state.floatbank2_b_level          14148 non-null  float64\n",
      " 73  secondary_cleaner.state.floatbank3_a_air            14145 non-null  float64\n",
      " 74  secondary_cleaner.state.floatbank3_a_level          14148 non-null  float64\n",
      " 75  secondary_cleaner.state.floatbank3_b_air            14148 non-null  float64\n",
      " 76  secondary_cleaner.state.floatbank3_b_level          14148 non-null  float64\n",
      " 77  secondary_cleaner.state.floatbank4_a_air            14143 non-null  float64\n",
      " 78  secondary_cleaner.state.floatbank4_a_level          14148 non-null  float64\n",
      " 79  secondary_cleaner.state.floatbank4_b_air            14148 non-null  float64\n",
      " 80  secondary_cleaner.state.floatbank4_b_level          14148 non-null  float64\n",
      " 81  secondary_cleaner.state.floatbank5_a_air            14148 non-null  float64\n",
      " 82  secondary_cleaner.state.floatbank5_a_level          14148 non-null  float64\n",
      " 83  secondary_cleaner.state.floatbank5_b_air            14148 non-null  float64\n",
      " 84  secondary_cleaner.state.floatbank5_b_level          14148 non-null  float64\n",
      " 85  secondary_cleaner.state.floatbank6_a_air            14147 non-null  float64\n",
      " 86  secondary_cleaner.state.floatbank6_a_level          14148 non-null  float64\n",
      "dtypes: float64(86), object(1)\n",
      "memory usage: 9.4+ MB\n"
     ]
    }
   ],
   "source": [
    "#обучающая выборка\n",
    "df_train.info()"
   ]
  },
  {
   "cell_type": "code",
   "execution_count": 7,
   "metadata": {
    "scrolled": true
   },
   "outputs": [
    {
     "name": "stdout",
     "output_type": "stream",
     "text": [
      "<class 'pandas.core.frame.DataFrame'>\n",
      "RangeIndex: 5290 entries, 0 to 5289\n",
      "Data columns (total 53 columns):\n",
      " #   Column                                      Non-Null Count  Dtype  \n",
      "---  ------                                      --------------  -----  \n",
      " 0   date                                        5290 non-null   object \n",
      " 1   primary_cleaner.input.sulfate               5286 non-null   float64\n",
      " 2   primary_cleaner.input.depressant            5285 non-null   float64\n",
      " 3   primary_cleaner.input.feed_size             5290 non-null   float64\n",
      " 4   primary_cleaner.input.xanthate              5286 non-null   float64\n",
      " 5   primary_cleaner.state.floatbank8_a_air      5290 non-null   float64\n",
      " 6   primary_cleaner.state.floatbank8_a_level    5290 non-null   float64\n",
      " 7   primary_cleaner.state.floatbank8_b_air      5290 non-null   float64\n",
      " 8   primary_cleaner.state.floatbank8_b_level    5290 non-null   float64\n",
      " 9   primary_cleaner.state.floatbank8_c_air      5290 non-null   float64\n",
      " 10  primary_cleaner.state.floatbank8_c_level    5290 non-null   float64\n",
      " 11  primary_cleaner.state.floatbank8_d_air      5290 non-null   float64\n",
      " 12  primary_cleaner.state.floatbank8_d_level    5290 non-null   float64\n",
      " 13  rougher.input.feed_ag                       5290 non-null   float64\n",
      " 14  rougher.input.feed_pb                       5290 non-null   float64\n",
      " 15  rougher.input.feed_rate                     5287 non-null   float64\n",
      " 16  rougher.input.feed_size                     5289 non-null   float64\n",
      " 17  rougher.input.feed_sol                      5269 non-null   float64\n",
      " 18  rougher.input.feed_au                       5290 non-null   float64\n",
      " 19  rougher.input.floatbank10_sulfate           5285 non-null   float64\n",
      " 20  rougher.input.floatbank10_xanthate          5290 non-null   float64\n",
      " 21  rougher.input.floatbank11_sulfate           5282 non-null   float64\n",
      " 22  rougher.input.floatbank11_xanthate          5265 non-null   float64\n",
      " 23  rougher.state.floatbank10_a_air             5290 non-null   float64\n",
      " 24  rougher.state.floatbank10_a_level           5290 non-null   float64\n",
      " 25  rougher.state.floatbank10_b_air             5290 non-null   float64\n",
      " 26  rougher.state.floatbank10_b_level           5290 non-null   float64\n",
      " 27  rougher.state.floatbank10_c_air             5290 non-null   float64\n",
      " 28  rougher.state.floatbank10_c_level           5290 non-null   float64\n",
      " 29  rougher.state.floatbank10_d_air             5290 non-null   float64\n",
      " 30  rougher.state.floatbank10_d_level           5290 non-null   float64\n",
      " 31  rougher.state.floatbank10_e_air             5290 non-null   float64\n",
      " 32  rougher.state.floatbank10_e_level           5290 non-null   float64\n",
      " 33  rougher.state.floatbank10_f_air             5290 non-null   float64\n",
      " 34  rougher.state.floatbank10_f_level           5290 non-null   float64\n",
      " 35  secondary_cleaner.state.floatbank2_a_air    5287 non-null   float64\n",
      " 36  secondary_cleaner.state.floatbank2_a_level  5290 non-null   float64\n",
      " 37  secondary_cleaner.state.floatbank2_b_air    5288 non-null   float64\n",
      " 38  secondary_cleaner.state.floatbank2_b_level  5290 non-null   float64\n",
      " 39  secondary_cleaner.state.floatbank3_a_air    5281 non-null   float64\n",
      " 40  secondary_cleaner.state.floatbank3_a_level  5290 non-null   float64\n",
      " 41  secondary_cleaner.state.floatbank3_b_air    5290 non-null   float64\n",
      " 42  secondary_cleaner.state.floatbank3_b_level  5290 non-null   float64\n",
      " 43  secondary_cleaner.state.floatbank4_a_air    5290 non-null   float64\n",
      " 44  secondary_cleaner.state.floatbank4_a_level  5290 non-null   float64\n",
      " 45  secondary_cleaner.state.floatbank4_b_air    5290 non-null   float64\n",
      " 46  secondary_cleaner.state.floatbank4_b_level  5290 non-null   float64\n",
      " 47  secondary_cleaner.state.floatbank5_a_air    5290 non-null   float64\n",
      " 48  secondary_cleaner.state.floatbank5_a_level  5290 non-null   float64\n",
      " 49  secondary_cleaner.state.floatbank5_b_air    5290 non-null   float64\n",
      " 50  secondary_cleaner.state.floatbank5_b_level  5290 non-null   float64\n",
      " 51  secondary_cleaner.state.floatbank6_a_air    5290 non-null   float64\n",
      " 52  secondary_cleaner.state.floatbank6_a_level  5290 non-null   float64\n",
      "dtypes: float64(52), object(1)\n",
      "memory usage: 2.1+ MB\n"
     ]
    }
   ],
   "source": [
    "#тестовая выборка\n",
    "df_test.info()"
   ]
  },
  {
   "cell_type": "markdown",
   "metadata": {},
   "source": [
    "Обучающая выборка состоит из 87 признаков, тестовая - из 53. Соотношение обучающей выборки к тестовой 73:27."
   ]
  },
  {
   "cell_type": "markdown",
   "metadata": {},
   "source": [
    "### Проверяю, что эффективность обогащения рассчитана правильно. Вычисляю её на обучающей выборке для признака rougher.output.recovery. Нахожу MAE между своими расчётами и значением признака."
   ]
  },
  {
   "cell_type": "code",
   "execution_count": 8,
   "metadata": {},
   "outputs": [],
   "source": [
    "#доля золота в концентрации после флотации/очистки\n",
    "c = df_train['rougher.output.concentrate_au']"
   ]
  },
  {
   "cell_type": "code",
   "execution_count": 9,
   "metadata": {},
   "outputs": [],
   "source": [
    "#доля золота в отвальных хвостах после флотации/очистки\n",
    "t = df_train['rougher.output.tail_au']"
   ]
  },
  {
   "cell_type": "code",
   "execution_count": 10,
   "metadata": {},
   "outputs": [],
   "source": [
    "#доля золота в сырье/концентрате до флотации/очистки\n",
    "f = df_train['rougher.input.feed_au']"
   ]
  },
  {
   "cell_type": "code",
   "execution_count": 11,
   "metadata": {},
   "outputs": [],
   "source": [
    "#формула\n",
    "recovery = (c * (f - t))/(f * (c - t)) * 100"
   ]
  },
  {
   "cell_type": "code",
   "execution_count": 12,
   "metadata": {},
   "outputs": [
    {
     "data": {
      "text/plain": [
       "0.0"
      ]
     },
     "execution_count": 12,
     "metadata": {},
     "output_type": "execute_result"
    }
   ],
   "source": [
    "#рассчитываем среднюю абсолюную ошибку\n",
    "mae = mean_absolute_error(df_train['rougher.output.recovery'], recovery)\n",
    "mae.round()"
   ]
  },
  {
   "cell_type": "markdown",
   "metadata": {},
   "source": [
    "Эффективность обогащения на тестовой выборке рассчитана верно, показатель MAE между имеющимися данными и рассчитанными по формуле значениями практически равен 0."
   ]
  },
  {
   "cell_type": "markdown",
   "metadata": {},
   "source": [
    "### Проанализирую признаки, недоступные в тестовой выборке. Определю, что это за параметры и к какому типу относятся."
   ]
  },
  {
   "cell_type": "code",
   "execution_count": 13,
   "metadata": {},
   "outputs": [
    {
     "data": {
      "text/plain": [
       "Index(['final.output.concentrate_ag', 'final.output.concentrate_au',\n",
       "       'final.output.concentrate_pb', 'final.output.concentrate_sol',\n",
       "       'final.output.recovery', 'final.output.tail_ag', 'final.output.tail_au',\n",
       "       'final.output.tail_pb', 'final.output.tail_sol',\n",
       "       'primary_cleaner.output.concentrate_ag',\n",
       "       'primary_cleaner.output.concentrate_au',\n",
       "       'primary_cleaner.output.concentrate_pb',\n",
       "       'primary_cleaner.output.concentrate_sol',\n",
       "       'primary_cleaner.output.tail_ag', 'primary_cleaner.output.tail_au',\n",
       "       'primary_cleaner.output.tail_pb', 'primary_cleaner.output.tail_sol',\n",
       "       'rougher.calculation.au_pb_ratio',\n",
       "       'rougher.calculation.floatbank10_sulfate_to_au_feed',\n",
       "       'rougher.calculation.floatbank11_sulfate_to_au_feed',\n",
       "       'rougher.calculation.sulfate_to_au_concentrate',\n",
       "       'rougher.output.concentrate_ag', 'rougher.output.concentrate_au',\n",
       "       'rougher.output.concentrate_pb', 'rougher.output.concentrate_sol',\n",
       "       'rougher.output.recovery', 'rougher.output.tail_ag',\n",
       "       'rougher.output.tail_au', 'rougher.output.tail_pb',\n",
       "       'rougher.output.tail_sol', 'secondary_cleaner.output.tail_ag',\n",
       "       'secondary_cleaner.output.tail_au', 'secondary_cleaner.output.tail_pb',\n",
       "       'secondary_cleaner.output.tail_sol'],\n",
       "      dtype='object')"
      ]
     },
     "execution_count": 13,
     "metadata": {},
     "output_type": "execute_result"
    }
   ],
   "source": [
    "#список столбцов, которых нет в тестовой выборке\n",
    "no_test_columns = df_train.columns.symmetric_difference(df_test.columns)\n",
    "no_test_columns"
   ]
  },
  {
   "cell_type": "code",
   "execution_count": 14,
   "metadata": {},
   "outputs": [
    {
     "name": "stdout",
     "output_type": "stream",
     "text": [
      "Количество отсутствующих параметров: 34\n"
     ]
    }
   ],
   "source": [
    "print('Количество отсутствующих параметров:', len(no_test_columns))"
   ]
  },
  {
   "cell_type": "markdown",
   "metadata": {},
   "source": [
    "- Большинство данных, отсутствующих в тестовой выборке относятся к output, то есть к параметрам продукта. Например, такие признаки как final.output.concentrate_au, final.output.tail_au показывают долю золота в финальном концентрате. Их отсутствие в тестовой выборке объясняется предотвращением утечки целевого признака.\n",
    "- Некоторые данные с типом параметра output/calculation отсутствуют, так как замеряются или рассчитываются значительно позже."
   ]
  },
  {
   "cell_type": "markdown",
   "metadata": {},
   "source": [
    "### Оцениваю количество пропусков"
   ]
  },
  {
   "cell_type": "code",
   "execution_count": 15,
   "metadata": {},
   "outputs": [],
   "source": [
    "def isna(data):\n",
    "    data_isna = data.isna().sum()\n",
    "    data_isna_percentage = ((data_isna / len(data)) * 100).round(2)\n",
    "    data_isna_df = pd.DataFrame({\n",
    "    'Количество пропусков': data_isna,\n",
    "    'Процент пропусков': data_isna_percentage\n",
    "}) \n",
    "    return data_isna_df[(data_isna_df['Количество пропусков'] > 0)].sort_values(\n",
    "        by='Количество пропусков', ascending=False)"
   ]
  },
  {
   "cell_type": "code",
   "execution_count": 16,
   "metadata": {
    "scrolled": true
   },
   "outputs": [
    {
     "data": {
      "text/html": [
       "<div>\n",
       "<style scoped>\n",
       "    .dataframe tbody tr th:only-of-type {\n",
       "        vertical-align: middle;\n",
       "    }\n",
       "\n",
       "    .dataframe tbody tr th {\n",
       "        vertical-align: top;\n",
       "    }\n",
       "\n",
       "    .dataframe thead th {\n",
       "        text-align: right;\n",
       "    }\n",
       "</style>\n",
       "<table border=\"1\" class=\"dataframe\">\n",
       "  <thead>\n",
       "    <tr style=\"text-align: right;\">\n",
       "      <th></th>\n",
       "      <th>Количество пропусков</th>\n",
       "      <th>Процент пропусков</th>\n",
       "    </tr>\n",
       "  </thead>\n",
       "  <tbody>\n",
       "    <tr>\n",
       "      <th>secondary_cleaner.output.tail_sol</th>\n",
       "      <td>1748</td>\n",
       "      <td>8.99</td>\n",
       "    </tr>\n",
       "    <tr>\n",
       "      <th>rougher.input.floatbank11_xanthate</th>\n",
       "      <td>453</td>\n",
       "      <td>2.33</td>\n",
       "    </tr>\n",
       "    <tr>\n",
       "      <th>rougher.state.floatbank10_e_air</th>\n",
       "      <td>436</td>\n",
       "      <td>2.24</td>\n",
       "    </tr>\n",
       "    <tr>\n",
       "      <th>primary_cleaner.output.concentrate_sol</th>\n",
       "      <td>370</td>\n",
       "      <td>1.90</td>\n",
       "    </tr>\n",
       "    <tr>\n",
       "      <th>secondary_cleaner.state.floatbank2_a_air</th>\n",
       "      <td>220</td>\n",
       "      <td>1.13</td>\n",
       "    </tr>\n",
       "    <tr>\n",
       "      <th>final.output.concentrate_sol</th>\n",
       "      <td>211</td>\n",
       "      <td>1.09</td>\n",
       "    </tr>\n",
       "    <tr>\n",
       "      <th>rougher.input.feed_size</th>\n",
       "      <td>145</td>\n",
       "      <td>0.75</td>\n",
       "    </tr>\n",
       "    <tr>\n",
       "      <th>primary_cleaner.output.concentrate_pb</th>\n",
       "      <td>116</td>\n",
       "      <td>0.60</td>\n",
       "    </tr>\n",
       "    <tr>\n",
       "      <th>primary_cleaner.input.xanthate</th>\n",
       "      <td>104</td>\n",
       "      <td>0.54</td>\n",
       "    </tr>\n",
       "    <tr>\n",
       "      <th>final.output.tail_pb</th>\n",
       "      <td>101</td>\n",
       "      <td>0.52</td>\n",
       "    </tr>\n",
       "    <tr>\n",
       "      <th>rougher.input.feed_pb</th>\n",
       "      <td>100</td>\n",
       "      <td>0.51</td>\n",
       "    </tr>\n",
       "    <tr>\n",
       "      <th>rougher.input.feed_sol</th>\n",
       "      <td>99</td>\n",
       "      <td>0.51</td>\n",
       "    </tr>\n",
       "    <tr>\n",
       "      <th>primary_cleaner.output.tail_sol</th>\n",
       "      <td>62</td>\n",
       "      <td>0.32</td>\n",
       "    </tr>\n",
       "    <tr>\n",
       "      <th>rougher.input.floatbank11_sulfate</th>\n",
       "      <td>44</td>\n",
       "      <td>0.23</td>\n",
       "    </tr>\n",
       "    <tr>\n",
       "      <th>primary_cleaner.input.depressant</th>\n",
       "      <td>37</td>\n",
       "      <td>0.19</td>\n",
       "    </tr>\n",
       "    <tr>\n",
       "      <th>rougher.input.floatbank10_sulfate</th>\n",
       "      <td>34</td>\n",
       "      <td>0.17</td>\n",
       "    </tr>\n",
       "    <tr>\n",
       "      <th>primary_cleaner.input.sulfate</th>\n",
       "      <td>24</td>\n",
       "      <td>0.12</td>\n",
       "    </tr>\n",
       "    <tr>\n",
       "      <th>secondary_cleaner.state.floatbank2_b_air</th>\n",
       "      <td>23</td>\n",
       "      <td>0.12</td>\n",
       "    </tr>\n",
       "    <tr>\n",
       "      <th>rougher.output.concentrate_sol</th>\n",
       "      <td>23</td>\n",
       "      <td>0.12</td>\n",
       "    </tr>\n",
       "    <tr>\n",
       "      <th>primary_cleaner.output.tail_pb</th>\n",
       "      <td>21</td>\n",
       "      <td>0.11</td>\n",
       "    </tr>\n",
       "    <tr>\n",
       "      <th>secondary_cleaner.state.floatbank3_a_air</th>\n",
       "      <td>13</td>\n",
       "      <td>0.07</td>\n",
       "    </tr>\n",
       "    <tr>\n",
       "      <th>secondary_cleaner.output.tail_pb</th>\n",
       "      <td>12</td>\n",
       "      <td>0.06</td>\n",
       "    </tr>\n",
       "    <tr>\n",
       "      <th>rougher.input.feed_rate</th>\n",
       "      <td>11</td>\n",
       "      <td>0.06</td>\n",
       "    </tr>\n",
       "    <tr>\n",
       "      <th>rougher.input.floatbank10_xanthate</th>\n",
       "      <td>8</td>\n",
       "      <td>0.04</td>\n",
       "    </tr>\n",
       "    <tr>\n",
       "      <th>final.output.tail_sol</th>\n",
       "      <td>6</td>\n",
       "      <td>0.03</td>\n",
       "    </tr>\n",
       "    <tr>\n",
       "      <th>secondary_cleaner.state.floatbank4_a_air</th>\n",
       "      <td>6</td>\n",
       "      <td>0.03</td>\n",
       "    </tr>\n",
       "    <tr>\n",
       "      <th>primary_cleaner.output.tail_ag</th>\n",
       "      <td>4</td>\n",
       "      <td>0.02</td>\n",
       "    </tr>\n",
       "    <tr>\n",
       "      <th>primary_cleaner.state.floatbank8_b_air</th>\n",
       "      <td>4</td>\n",
       "      <td>0.02</td>\n",
       "    </tr>\n",
       "    <tr>\n",
       "      <th>primary_cleaner.state.floatbank8_a_air</th>\n",
       "      <td>4</td>\n",
       "      <td>0.02</td>\n",
       "    </tr>\n",
       "    <tr>\n",
       "      <th>primary_cleaner.state.floatbank8_d_air</th>\n",
       "      <td>3</td>\n",
       "      <td>0.02</td>\n",
       "    </tr>\n",
       "  </tbody>\n",
       "</table>\n",
       "</div>"
      ],
      "text/plain": [
       "                                          Количество пропусков  \\\n",
       "secondary_cleaner.output.tail_sol                         1748   \n",
       "rougher.input.floatbank11_xanthate                         453   \n",
       "rougher.state.floatbank10_e_air                            436   \n",
       "primary_cleaner.output.concentrate_sol                     370   \n",
       "secondary_cleaner.state.floatbank2_a_air                   220   \n",
       "final.output.concentrate_sol                               211   \n",
       "rougher.input.feed_size                                    145   \n",
       "primary_cleaner.output.concentrate_pb                      116   \n",
       "primary_cleaner.input.xanthate                             104   \n",
       "final.output.tail_pb                                       101   \n",
       "rougher.input.feed_pb                                      100   \n",
       "rougher.input.feed_sol                                      99   \n",
       "primary_cleaner.output.tail_sol                             62   \n",
       "rougher.input.floatbank11_sulfate                           44   \n",
       "primary_cleaner.input.depressant                            37   \n",
       "rougher.input.floatbank10_sulfate                           34   \n",
       "primary_cleaner.input.sulfate                               24   \n",
       "secondary_cleaner.state.floatbank2_b_air                    23   \n",
       "rougher.output.concentrate_sol                              23   \n",
       "primary_cleaner.output.tail_pb                              21   \n",
       "secondary_cleaner.state.floatbank3_a_air                    13   \n",
       "secondary_cleaner.output.tail_pb                            12   \n",
       "rougher.input.feed_rate                                     11   \n",
       "rougher.input.floatbank10_xanthate                           8   \n",
       "final.output.tail_sol                                        6   \n",
       "secondary_cleaner.state.floatbank4_a_air                     6   \n",
       "primary_cleaner.output.tail_ag                               4   \n",
       "primary_cleaner.state.floatbank8_b_air                       4   \n",
       "primary_cleaner.state.floatbank8_a_air                       4   \n",
       "primary_cleaner.state.floatbank8_d_air                       3   \n",
       "\n",
       "                                          Процент пропусков  \n",
       "secondary_cleaner.output.tail_sol                      8.99  \n",
       "rougher.input.floatbank11_xanthate                     2.33  \n",
       "rougher.state.floatbank10_e_air                        2.24  \n",
       "primary_cleaner.output.concentrate_sol                 1.90  \n",
       "secondary_cleaner.state.floatbank2_a_air               1.13  \n",
       "final.output.concentrate_sol                           1.09  \n",
       "rougher.input.feed_size                                0.75  \n",
       "primary_cleaner.output.concentrate_pb                  0.60  \n",
       "primary_cleaner.input.xanthate                         0.54  \n",
       "final.output.tail_pb                                   0.52  \n",
       "rougher.input.feed_pb                                  0.51  \n",
       "rougher.input.feed_sol                                 0.51  \n",
       "primary_cleaner.output.tail_sol                        0.32  \n",
       "rougher.input.floatbank11_sulfate                      0.23  \n",
       "primary_cleaner.input.depressant                       0.19  \n",
       "rougher.input.floatbank10_sulfate                      0.17  \n",
       "primary_cleaner.input.sulfate                          0.12  \n",
       "secondary_cleaner.state.floatbank2_b_air               0.12  \n",
       "rougher.output.concentrate_sol                         0.12  \n",
       "primary_cleaner.output.tail_pb                         0.11  \n",
       "secondary_cleaner.state.floatbank3_a_air               0.07  \n",
       "secondary_cleaner.output.tail_pb                       0.06  \n",
       "rougher.input.feed_rate                                0.06  \n",
       "rougher.input.floatbank10_xanthate                     0.04  \n",
       "final.output.tail_sol                                  0.03  \n",
       "secondary_cleaner.state.floatbank4_a_air               0.03  \n",
       "primary_cleaner.output.tail_ag                         0.02  \n",
       "primary_cleaner.state.floatbank8_b_air                 0.02  \n",
       "primary_cleaner.state.floatbank8_a_air                 0.02  \n",
       "primary_cleaner.state.floatbank8_d_air                 0.02  "
      ]
     },
     "execution_count": 16,
     "metadata": {},
     "output_type": "execute_result"
    }
   ],
   "source": [
    "df_isna = isna(df)\n",
    "df_isna.head(30)"
   ]
  },
  {
   "cell_type": "code",
   "execution_count": 17,
   "metadata": {
    "scrolled": true
   },
   "outputs": [
    {
     "data": {
      "text/html": [
       "<div>\n",
       "<style scoped>\n",
       "    .dataframe tbody tr th:only-of-type {\n",
       "        vertical-align: middle;\n",
       "    }\n",
       "\n",
       "    .dataframe tbody tr th {\n",
       "        vertical-align: top;\n",
       "    }\n",
       "\n",
       "    .dataframe thead th {\n",
       "        text-align: right;\n",
       "    }\n",
       "</style>\n",
       "<table border=\"1\" class=\"dataframe\">\n",
       "  <thead>\n",
       "    <tr style=\"text-align: right;\">\n",
       "      <th></th>\n",
       "      <th>Количество пропусков</th>\n",
       "      <th>Процент пропусков</th>\n",
       "    </tr>\n",
       "  </thead>\n",
       "  <tbody>\n",
       "    <tr>\n",
       "      <th>secondary_cleaner.output.tail_sol</th>\n",
       "      <td>1605</td>\n",
       "      <td>11.34</td>\n",
       "    </tr>\n",
       "    <tr>\n",
       "      <th>rougher.state.floatbank10_e_air</th>\n",
       "      <td>436</td>\n",
       "      <td>3.08</td>\n",
       "    </tr>\n",
       "    <tr>\n",
       "      <th>rougher.input.floatbank11_xanthate</th>\n",
       "      <td>428</td>\n",
       "      <td>3.02</td>\n",
       "    </tr>\n",
       "    <tr>\n",
       "      <th>primary_cleaner.output.concentrate_sol</th>\n",
       "      <td>286</td>\n",
       "      <td>2.02</td>\n",
       "    </tr>\n",
       "    <tr>\n",
       "      <th>secondary_cleaner.state.floatbank2_a_air</th>\n",
       "      <td>217</td>\n",
       "      <td>1.53</td>\n",
       "    </tr>\n",
       "    <tr>\n",
       "      <th>final.output.concentrate_sol</th>\n",
       "      <td>211</td>\n",
       "      <td>1.49</td>\n",
       "    </tr>\n",
       "    <tr>\n",
       "      <th>rougher.input.feed_size</th>\n",
       "      <td>144</td>\n",
       "      <td>1.02</td>\n",
       "    </tr>\n",
       "    <tr>\n",
       "      <th>final.output.tail_pb</th>\n",
       "      <td>100</td>\n",
       "      <td>0.71</td>\n",
       "    </tr>\n",
       "    <tr>\n",
       "      <th>rougher.input.feed_pb</th>\n",
       "      <td>100</td>\n",
       "      <td>0.71</td>\n",
       "    </tr>\n",
       "    <tr>\n",
       "      <th>primary_cleaner.input.xanthate</th>\n",
       "      <td>100</td>\n",
       "      <td>0.71</td>\n",
       "    </tr>\n",
       "    <tr>\n",
       "      <th>primary_cleaner.output.concentrate_pb</th>\n",
       "      <td>86</td>\n",
       "      <td>0.61</td>\n",
       "    </tr>\n",
       "    <tr>\n",
       "      <th>rougher.input.feed_sol</th>\n",
       "      <td>78</td>\n",
       "      <td>0.55</td>\n",
       "    </tr>\n",
       "    <tr>\n",
       "      <th>primary_cleaner.output.tail_sol</th>\n",
       "      <td>46</td>\n",
       "      <td>0.33</td>\n",
       "    </tr>\n",
       "    <tr>\n",
       "      <th>rougher.input.floatbank11_sulfate</th>\n",
       "      <td>36</td>\n",
       "      <td>0.25</td>\n",
       "    </tr>\n",
       "    <tr>\n",
       "      <th>primary_cleaner.input.depressant</th>\n",
       "      <td>32</td>\n",
       "      <td>0.23</td>\n",
       "    </tr>\n",
       "    <tr>\n",
       "      <th>rougher.input.floatbank10_sulfate</th>\n",
       "      <td>29</td>\n",
       "      <td>0.20</td>\n",
       "    </tr>\n",
       "    <tr>\n",
       "      <th>rougher.output.concentrate_sol</th>\n",
       "      <td>22</td>\n",
       "      <td>0.16</td>\n",
       "    </tr>\n",
       "    <tr>\n",
       "      <th>secondary_cleaner.state.floatbank2_b_air</th>\n",
       "      <td>21</td>\n",
       "      <td>0.15</td>\n",
       "    </tr>\n",
       "    <tr>\n",
       "      <th>primary_cleaner.input.sulfate</th>\n",
       "      <td>20</td>\n",
       "      <td>0.14</td>\n",
       "    </tr>\n",
       "    <tr>\n",
       "      <th>primary_cleaner.output.tail_pb</th>\n",
       "      <td>15</td>\n",
       "      <td>0.11</td>\n",
       "    </tr>\n",
       "  </tbody>\n",
       "</table>\n",
       "</div>"
      ],
      "text/plain": [
       "                                          Количество пропусков  \\\n",
       "secondary_cleaner.output.tail_sol                         1605   \n",
       "rougher.state.floatbank10_e_air                            436   \n",
       "rougher.input.floatbank11_xanthate                         428   \n",
       "primary_cleaner.output.concentrate_sol                     286   \n",
       "secondary_cleaner.state.floatbank2_a_air                   217   \n",
       "final.output.concentrate_sol                               211   \n",
       "rougher.input.feed_size                                    144   \n",
       "final.output.tail_pb                                       100   \n",
       "rougher.input.feed_pb                                      100   \n",
       "primary_cleaner.input.xanthate                             100   \n",
       "primary_cleaner.output.concentrate_pb                       86   \n",
       "rougher.input.feed_sol                                      78   \n",
       "primary_cleaner.output.tail_sol                             46   \n",
       "rougher.input.floatbank11_sulfate                           36   \n",
       "primary_cleaner.input.depressant                            32   \n",
       "rougher.input.floatbank10_sulfate                           29   \n",
       "rougher.output.concentrate_sol                              22   \n",
       "secondary_cleaner.state.floatbank2_b_air                    21   \n",
       "primary_cleaner.input.sulfate                               20   \n",
       "primary_cleaner.output.tail_pb                              15   \n",
       "\n",
       "                                          Процент пропусков  \n",
       "secondary_cleaner.output.tail_sol                     11.34  \n",
       "rougher.state.floatbank10_e_air                        3.08  \n",
       "rougher.input.floatbank11_xanthate                     3.02  \n",
       "primary_cleaner.output.concentrate_sol                 2.02  \n",
       "secondary_cleaner.state.floatbank2_a_air               1.53  \n",
       "final.output.concentrate_sol                           1.49  \n",
       "rougher.input.feed_size                                1.02  \n",
       "final.output.tail_pb                                   0.71  \n",
       "rougher.input.feed_pb                                  0.71  \n",
       "primary_cleaner.input.xanthate                         0.71  \n",
       "primary_cleaner.output.concentrate_pb                  0.61  \n",
       "rougher.input.feed_sol                                 0.55  \n",
       "primary_cleaner.output.tail_sol                        0.33  \n",
       "rougher.input.floatbank11_sulfate                      0.25  \n",
       "primary_cleaner.input.depressant                       0.23  \n",
       "rougher.input.floatbank10_sulfate                      0.20  \n",
       "rougher.output.concentrate_sol                         0.16  \n",
       "secondary_cleaner.state.floatbank2_b_air               0.15  \n",
       "primary_cleaner.input.sulfate                          0.14  \n",
       "primary_cleaner.output.tail_pb                         0.11  "
      ]
     },
     "execution_count": 17,
     "metadata": {},
     "output_type": "execute_result"
    }
   ],
   "source": [
    "df_train_isna = isna(df_train)\n",
    "df_train_isna.head(20)"
   ]
  },
  {
   "cell_type": "code",
   "execution_count": 18,
   "metadata": {
    "scrolled": true
   },
   "outputs": [
    {
     "data": {
      "text/html": [
       "<div>\n",
       "<style scoped>\n",
       "    .dataframe tbody tr th:only-of-type {\n",
       "        vertical-align: middle;\n",
       "    }\n",
       "\n",
       "    .dataframe tbody tr th {\n",
       "        vertical-align: top;\n",
       "    }\n",
       "\n",
       "    .dataframe thead th {\n",
       "        text-align: right;\n",
       "    }\n",
       "</style>\n",
       "<table border=\"1\" class=\"dataframe\">\n",
       "  <thead>\n",
       "    <tr style=\"text-align: right;\">\n",
       "      <th></th>\n",
       "      <th>Количество пропусков</th>\n",
       "      <th>Процент пропусков</th>\n",
       "    </tr>\n",
       "  </thead>\n",
       "  <tbody>\n",
       "    <tr>\n",
       "      <th>rougher.input.floatbank11_xanthate</th>\n",
       "      <td>25</td>\n",
       "      <td>0.47</td>\n",
       "    </tr>\n",
       "    <tr>\n",
       "      <th>rougher.input.feed_sol</th>\n",
       "      <td>21</td>\n",
       "      <td>0.40</td>\n",
       "    </tr>\n",
       "    <tr>\n",
       "      <th>secondary_cleaner.state.floatbank3_a_air</th>\n",
       "      <td>9</td>\n",
       "      <td>0.17</td>\n",
       "    </tr>\n",
       "    <tr>\n",
       "      <th>rougher.input.floatbank11_sulfate</th>\n",
       "      <td>8</td>\n",
       "      <td>0.15</td>\n",
       "    </tr>\n",
       "    <tr>\n",
       "      <th>primary_cleaner.input.depressant</th>\n",
       "      <td>5</td>\n",
       "      <td>0.09</td>\n",
       "    </tr>\n",
       "    <tr>\n",
       "      <th>rougher.input.floatbank10_sulfate</th>\n",
       "      <td>5</td>\n",
       "      <td>0.09</td>\n",
       "    </tr>\n",
       "    <tr>\n",
       "      <th>primary_cleaner.input.sulfate</th>\n",
       "      <td>4</td>\n",
       "      <td>0.08</td>\n",
       "    </tr>\n",
       "    <tr>\n",
       "      <th>primary_cleaner.input.xanthate</th>\n",
       "      <td>4</td>\n",
       "      <td>0.08</td>\n",
       "    </tr>\n",
       "    <tr>\n",
       "      <th>rougher.input.feed_rate</th>\n",
       "      <td>3</td>\n",
       "      <td>0.06</td>\n",
       "    </tr>\n",
       "    <tr>\n",
       "      <th>secondary_cleaner.state.floatbank2_a_air</th>\n",
       "      <td>3</td>\n",
       "      <td>0.06</td>\n",
       "    </tr>\n",
       "    <tr>\n",
       "      <th>secondary_cleaner.state.floatbank2_b_air</th>\n",
       "      <td>2</td>\n",
       "      <td>0.04</td>\n",
       "    </tr>\n",
       "    <tr>\n",
       "      <th>rougher.input.feed_size</th>\n",
       "      <td>1</td>\n",
       "      <td>0.02</td>\n",
       "    </tr>\n",
       "  </tbody>\n",
       "</table>\n",
       "</div>"
      ],
      "text/plain": [
       "                                          Количество пропусков  \\\n",
       "rougher.input.floatbank11_xanthate                          25   \n",
       "rougher.input.feed_sol                                      21   \n",
       "secondary_cleaner.state.floatbank3_a_air                     9   \n",
       "rougher.input.floatbank11_sulfate                            8   \n",
       "primary_cleaner.input.depressant                             5   \n",
       "rougher.input.floatbank10_sulfate                            5   \n",
       "primary_cleaner.input.sulfate                                4   \n",
       "primary_cleaner.input.xanthate                               4   \n",
       "rougher.input.feed_rate                                      3   \n",
       "secondary_cleaner.state.floatbank2_a_air                     3   \n",
       "secondary_cleaner.state.floatbank2_b_air                     2   \n",
       "rougher.input.feed_size                                      1   \n",
       "\n",
       "                                          Процент пропусков  \n",
       "rougher.input.floatbank11_xanthate                     0.47  \n",
       "rougher.input.feed_sol                                 0.40  \n",
       "secondary_cleaner.state.floatbank3_a_air               0.17  \n",
       "rougher.input.floatbank11_sulfate                      0.15  \n",
       "primary_cleaner.input.depressant                       0.09  \n",
       "rougher.input.floatbank10_sulfate                      0.09  \n",
       "primary_cleaner.input.sulfate                          0.08  \n",
       "primary_cleaner.input.xanthate                         0.08  \n",
       "rougher.input.feed_rate                                0.06  \n",
       "secondary_cleaner.state.floatbank2_a_air               0.06  \n",
       "secondary_cleaner.state.floatbank2_b_air               0.04  \n",
       "rougher.input.feed_size                                0.02  "
      ]
     },
     "execution_count": 18,
     "metadata": {},
     "output_type": "execute_result"
    }
   ],
   "source": [
    "df_test_isna = isna(df_test)\n",
    "df_test_isna.head(20)"
   ]
  },
  {
   "cell_type": "markdown",
   "metadata": {},
   "source": [
    "### Заполню пропуски соседними по времени параметрами для всех выборок"
   ]
  },
  {
   "cell_type": "code",
   "execution_count": 19,
   "metadata": {},
   "outputs": [],
   "source": [
    "#функция заполнения пропусков\n",
    "def fill_nan(data):\n",
    "    data = data.ffill(axis=0)\n",
    "    return data"
   ]
  },
  {
   "cell_type": "code",
   "execution_count": 20,
   "metadata": {},
   "outputs": [],
   "source": [
    "df = fill_nan(df)"
   ]
  },
  {
   "cell_type": "code",
   "execution_count": 21,
   "metadata": {},
   "outputs": [],
   "source": [
    "df_train = fill_nan(df_train)"
   ]
  },
  {
   "cell_type": "code",
   "execution_count": 22,
   "metadata": {},
   "outputs": [],
   "source": [
    "df_test = fill_nan(df_test)"
   ]
  },
  {
   "cell_type": "markdown",
   "metadata": {},
   "source": [
    "### Проверю датафреймы на наличие дубликатов"
   ]
  },
  {
   "cell_type": "code",
   "execution_count": 23,
   "metadata": {},
   "outputs": [
    {
     "data": {
      "text/plain": [
       "0"
      ]
     },
     "execution_count": 23,
     "metadata": {},
     "output_type": "execute_result"
    }
   ],
   "source": [
    "df.duplicated().sum()"
   ]
  },
  {
   "cell_type": "code",
   "execution_count": 24,
   "metadata": {},
   "outputs": [
    {
     "data": {
      "text/plain": [
       "0"
      ]
     },
     "execution_count": 24,
     "metadata": {},
     "output_type": "execute_result"
    }
   ],
   "source": [
    "df_train.duplicated().sum()"
   ]
  },
  {
   "cell_type": "code",
   "execution_count": 25,
   "metadata": {},
   "outputs": [
    {
     "data": {
      "text/plain": [
       "0"
      ]
     },
     "execution_count": 25,
     "metadata": {},
     "output_type": "execute_result"
    }
   ],
   "source": [
    "df_test.duplicated().sum()"
   ]
  },
  {
   "cell_type": "markdown",
   "metadata": {},
   "source": [
    "### ВЫВОД:\n",
    "\n",
    "Доступны 3 датафрейма: исходные данные, обучающая выборка, тестовая выборка. \n",
    "- Соотношение данных в тестовой и обучающей выборке находится в корректной пропорции (27:73);\n",
    "- Тестовая выборка содержит на 34 признака меньше, чем обучающая, чтобы не возникала утечка целевого признака;\n",
    "- Обнаруженные пропуски в выборках были заполнены соседними параметрами, так как согласно исходным данным данные индексируются датой и временем получения информации и соседние по времени параметры часто похожи;\n",
    "- Явных дубликатов не обнаружено."
   ]
  },
  {
   "cell_type": "markdown",
   "metadata": {},
   "source": [
    "## Этап 2. Анализ данных"
   ]
  },
  {
   "cell_type": "markdown",
   "metadata": {},
   "source": [
    "### Посмотрю, как меняется концентрация металлов (Au, Ag, Pb) на различных этапах очистки"
   ]
  },
  {
   "cell_type": "code",
   "execution_count": 26,
   "metadata": {},
   "outputs": [],
   "source": [
    "def concentrate(data, name, name2):\n",
    "    data_stage = data.filter(regex=name)\n",
    "    data_stage.columns = ['финальные', 'первичная очистка', 'сырье', 'флотация']\n",
    "    data_stage = data_stage[['сырье', 'флотация', 'первичная очистка', 'финальные']]\n",
    "    au_boxplot = sns.boxplot(data=data_stage)\n",
    "    au_boxplot.set_title(f'Концентрация {name2} на разных стадиях')\n",
    "    au_boxplot.set_xlabel('Этап обработки')\n",
    "    au_boxplot.set_ylabel('Значения')\n",
    "    plt.show()\n",
    "    print(data_stage.describe())"
   ]
  },
  {
   "cell_type": "code",
   "execution_count": 27,
   "metadata": {},
   "outputs": [
    {
     "data": {
      "image/png": "[encoded data removed]",
      "text/plain": [
       "<Figure size 640x480 with 1 Axes>"
      ]
     },
     "metadata": {},
     "output_type": "display_data"
    },
    {
     "name": "stdout",
     "output_type": "stream",
     "text": [
      "              сырье      флотация  первичная очистка     финальные\n",
      "count  19439.000000  19439.000000       19439.000000  19439.000000\n",
      "mean       8.266097     19.772000          32.119400     44.076513\n",
      "std        1.955092      3.753600           5.627611      5.129784\n",
      "min        0.010000      0.000000           0.000000      0.000000\n",
      "25%        6.854384     18.802523          30.463140     43.402215\n",
      "50%        8.125839     20.280214          32.841295     45.011244\n",
      "75%        9.769917     21.717843          35.048006     46.275313\n",
      "max       13.731330     28.824507          45.933934     52.756638\n"
     ]
    }
   ],
   "source": [
    "concentrate(df, 'concentrate_au|feed_au', 'AU')"
   ]
  },
  {
   "cell_type": "markdown",
   "metadata": {},
   "source": [
    "Средние и медианные значения AU возрастают поэтапно от сырья до финального концентрата."
   ]
  },
  {
   "cell_type": "code",
   "execution_count": 28,
   "metadata": {},
   "outputs": [
    {
     "data": {
      "image/png": "[encoded data removed]",
      "text/plain": [
       "<Figure size 640x480 with 1 Axes>"
      ]
     },
     "metadata": {},
     "output_type": "display_data"
    },
    {
     "name": "stdout",
     "output_type": "stream",
     "text": [
      "              сырье      флотация  первичная очистка     финальные\n",
      "count  19439.000000  19439.000000       19439.000000  19439.000000\n",
      "mean       8.794927     11.994759           8.442408      5.168387\n",
      "std        1.936847      2.733862           2.054465      1.372362\n",
      "min        0.010000      0.000000           0.000000      0.000000\n",
      "25%        7.237967     10.628337           7.263288      4.251000\n",
      "50%        8.593574     12.098115           8.507298      5.066039\n",
      "75%       10.213771     13.736996           9.809001      5.895401\n",
      "max       14.596026     24.480271          16.081632     16.001945\n"
     ]
    }
   ],
   "source": [
    "concentrate(df, 'concentrate_ag|feed_ag', 'AG')"
   ]
  },
  {
   "cell_type": "markdown",
   "metadata": {},
   "source": [
    "Средние и медианные значения AG растут от сырья до этапа флотации, затем снижаются поэтапно от флотации до финального концентрата."
   ]
  },
  {
   "cell_type": "code",
   "execution_count": 29,
   "metadata": {},
   "outputs": [
    {
     "data": {
      "image/png": "[encoded data removed]",
      "text/plain": [
       "<Figure size 640x480 with 1 Axes>"
      ]
     },
     "metadata": {},
     "output_type": "display_data"
    },
    {
     "name": "stdout",
     "output_type": "stream",
     "text": [
      "              сырье      флотация  первичная очистка     финальные\n",
      "count  19439.000000  19439.000000       19439.000000  19439.000000\n",
      "mean       3.585096      7.606272           9.810317      9.978821\n",
      "std        1.062972      1.796757           2.572253      1.669228\n",
      "min        0.010000      0.000000           0.000000      0.000000\n",
      "25%        2.872178      6.725987           8.676500      9.137225\n",
      "50%        3.528235      7.742580          10.142270     10.102264\n",
      "75%        4.241005      8.565199          11.416298     11.035644\n",
      "max        7.142594     13.617072          17.081278     17.031899\n"
     ]
    }
   ],
   "source": [
    "concentrate(df, 'concentrate_pb|feed_pb', 'PB')"
   ]
  },
  {
   "cell_type": "markdown",
   "metadata": {},
   "source": [
    "Средние и медианные значения PB повышаются поэтапно от сырья до первичной очистки. Средние и медианные значения на финальном этапе имеют незначительные различия относительно этапа первичной очистки."
   ]
  },
  {
   "cell_type": "markdown",
   "metadata": {},
   "source": [
    "### ВЫВОД:\n",
    "\n",
    "- Концентрация AU последовательно повышается на каждом этапе: наименьшее среднее значение характерно для сырья, наибольшее - для финальных характеристик;\n",
    "- Концентрация AG растет от сырья к этапу флотации, затем снижается на каждом этапе: наименьшее среднее значение соответствует финальному этапу, наибольшее флотации;\n",
    "- Концентрация PB имеет наименьшее среднее на этапе сырья, разница между финальным этапом и первичной очисткой незначительна."
   ]
  },
  {
   "cell_type": "markdown",
   "metadata": {},
   "source": [
    "### Сравню распределения размеров гранул сырья на обучающей и тестовой выборках. Если распределения сильно отличаются друг от друга, оценка модели будет неправильной"
   ]
  },
  {
   "cell_type": "code",
   "execution_count": 30,
   "metadata": {},
   "outputs": [],
   "source": [
    "#функция построения графиков боксплот для обучающей и тестовой выборки\n",
    "def feed_size(data_train, data_test):\n",
    "    feed_size_data_train = data_train.filter(regex='feed_size')\n",
    "    feed_size_data_test = data_test.filter(regex='feed_size')\n",
    "    feed_size_data_train.columns = ['первичная очистка', 'флотация']\n",
    "    feed_size_data_test.columns = ['первичная очистка', 'флотация']\n",
    "    print('Обучающая выборка\\n', feed_size_data_train.describe())\n",
    "    print('Тестовая выборка\\n', feed_size_data_test.describe())\n",
    "    train_primary_feed_size = feed_size_data_train['первичная очистка']\n",
    "    test_primary_feed_size = feed_size_data_test['первичная очистка']\n",
    "    feed_size_boxplot_1 = sns.boxplot(data=[train_primary_feed_size, test_primary_feed_size])\n",
    "\n",
    "    feed_size_boxplot_1.set_title('Cравнение выборок по размерам гранул сырья, первичная очистка')\n",
    "    feed_size_boxplot_1.set_xlabel('Стадия')\n",
    "    feed_size_boxplot_1.set_ylabel('Размер гранул')\n",
    "    feed_size_boxplot_1.set_ylim([4, 12])\n",
    "    plt.show()\n",
    "    train_rough_feed_size = feed_size_data_train['флотация']\n",
    "    test_rough_feed_size = feed_size_data_test['флотация']\n",
    "\n",
    "    feed_size_boxplot_2 = sns.boxplot(data=[train_rough_feed_size, test_rough_feed_size])\n",
    "    feed_size_boxplot_2.set_title('Cравнение выборок по размерам гранул сырья, флотация')\n",
    "    feed_size_boxplot_2.set_xlabel('Стадия')\n",
    "    feed_size_boxplot_2.set_ylabel('Размер гранул')\n",
    "    feed_size_boxplot_2.set_ylim([15, 150])\n",
    "    plt.show()\n"
   ]
  },
  {
   "cell_type": "code",
   "execution_count": 31,
   "metadata": {},
   "outputs": [
    {
     "name": "stdout",
     "output_type": "stream",
     "text": [
      "Обучающая выборка\n",
      "        первичная очистка      флотация\n",
      "count       14149.000000  14149.000000\n",
      "mean            7.322310     60.239856\n",
      "std             0.614062     23.005310\n",
      "min             1.080000      9.659576\n",
      "25%             6.960000     48.966751\n",
      "50%             7.290000     55.269784\n",
      "75%             7.700000     66.007526\n",
      "max            10.470000    484.967466\n",
      "Тестовая выборка\n",
      "        первичная очистка     флотация\n",
      "count        5290.000000  5290.000000\n",
      "mean            7.266339    55.952754\n",
      "std             0.610219    19.080334\n",
      "min             5.650000     0.046369\n",
      "25%             6.890000    43.906504\n",
      "50%             7.250000    50.846843\n",
      "75%             7.600000    62.451165\n",
      "max            15.500000   392.494040\n"
     ]
    },
    {
     "data": {
      "image/png": "[encoded data removed]",
      "text/plain": [
       "<Figure size 640x480 with 1 Axes>"
      ]
     },
     "metadata": {},
     "output_type": "display_data"
    },
    {
     "data": {
      "image/png": "[encoded data removed]",
      "text/plain": [
       "<Figure size 640x480 with 1 Axes>"
      ]
     },
     "metadata": {},
     "output_type": "display_data"
    }
   ],
   "source": [
    "feed_size(df_train, df_test)"
   ]
  },
  {
   "cell_type": "markdown",
   "metadata": {},
   "source": [
    "Размеры \"ящиков\" и медиан достаточно похожи для значений как обучающей, так и тестовой выборки."
   ]
  },
  {
   "cell_type": "code",
   "execution_count": 32,
   "metadata": {},
   "outputs": [],
   "source": [
    "# функция для построения гистограммы для обучающей и тестовой и выборок\n",
    "def hist_feed_size(data_train, data_test):\n",
    "    feed_size_data_train = data_train.filter(regex='feed_size')\n",
    "    feed_size_data_test = data_test.filter(regex='feed_size')\n",
    "    feed_size_data_train.columns = ['первичная очистка', 'флотация']\n",
    "    feed_size_data_test.columns = ['первичная очистка', 'флотация']\n",
    "    train_primary_feed_size = feed_size_data_train['первичная очистка']\n",
    "    test_primary_feed_size = feed_size_data_test['первичная очистка']\n",
    "    train_rough_feed_size = feed_size_data_train['флотация']\n",
    "    test_rough_feed_size = feed_size_data_test['флотация']\n",
    "    \n",
    "    fig, axs = plt.subplots(2, 2, figsize=(16, 8))\n",
    "\n",
    "    axs[0, 0].hist(train_primary_feed_size, color='blue', edgecolor='black', range=(4, 10), bins=20)\n",
    "    axs[0, 0].grid()\n",
    "    axs[0, 0].set_title('Распределение размеров гранул сырья 1ый этап очистки, обучающая выборка')\n",
    "    axs[0, 0].tick_params(axis='x', labelsize=6)\n",
    "\n",
    "    axs[1, 0].hist(test_primary_feed_size, color='green', edgecolor='black', range=(4, 10), bins=20)\n",
    "    axs[1, 0].grid()\n",
    "    axs[1, 0].set_title('Распределение размеров гранул сырья 1ый этап очистки, тестовая выборка')\n",
    "    axs[1, 0].tick_params(axis='x', labelsize=6)\n",
    "    \n",
    "    axs[0, 1].hist(train_rough_feed_size, color='blue', edgecolor='black', range=(0,200), bins=20)\n",
    "    axs[0, 1].grid()\n",
    "    axs[0, 1].set_title('Распределение размеров гранул сырья флотация, обучающая выборка')\n",
    "    axs[0, 1].tick_params(axis='x', labelsize=6)\n",
    "    \n",
    "    axs[1, 1].hist(train_rough_feed_size, color='green', edgecolor='black', range=(0,200), bins=20)\n",
    "    axs[1, 1].grid()\n",
    "    axs[1, 1].set_title('Распределение размеров гранул сырья флотация, тестовая выборка')\n",
    "    axs[1, 1].tick_params(axis='x', labelsize=6)\n",
    "    \n",
    "    plt.tight_layout()\n",
    "    plt.show()"
   ]
  },
  {
   "cell_type": "code",
   "execution_count": 33,
   "metadata": {},
   "outputs": [
    {
     "data": {
      "image/png": "[encoded data removed]",
      "text/plain": [
       "<Figure size 1600x800 with 4 Axes>"
      ]
     },
     "metadata": {},
     "output_type": "display_data"
    }
   ],
   "source": [
    "hist_feed_size(df_train, df_test)"
   ]
  },
  {
   "cell_type": "markdown",
   "metadata": {},
   "source": [
    "Визуально распределения достаточно похожи. Недостатком данного графика является произвольный выбор корзин."
   ]
  },
  {
   "cell_type": "markdown",
   "metadata": {},
   "source": [
    "Рассмотрим как соотносятся распределения через QQ-plot."
   ]
  },
  {
   "cell_type": "code",
   "execution_count": 34,
   "metadata": {},
   "outputs": [],
   "source": [
    "#функция для построения графика QQ-plot\n",
    "def qqplot(data_train, data_test):\n",
    "    feed_size_data_train = data_train.filter(regex='feed_size')\n",
    "    feed_size_data_test = data_test.filter(regex='feed_size')\n",
    "    feed_size_data_train.columns = ['первичная очистка', 'флотация']\n",
    "    feed_size_data_test.columns = ['первичная очистка', 'флотация']\n",
    "    train_primary_feed_size = feed_size_data_train['первичная очистка']\n",
    "    test_primary_feed_size = feed_size_data_test['первичная очистка']\n",
    "    train_rough_feed_size = feed_size_data_train['флотация']\n",
    "    test_rough_feed_size = feed_size_data_test['флотация']\n",
    "    \n",
    "    number_1 = train_primary_feed_size.values\n",
    "    number_2 = test_primary_feed_size.values\n",
    "    df_qq_1 = pd.DataFrame()\n",
    "    df_qq_1['q_train_pr'] = np.percentile(number_1, range(100))\n",
    "    df_qq_1['q_test_pr'] = np.percentile(number_2, range(100))\n",
    "    plt.figure(figsize=(6,6))\n",
    "    plt.scatter(data=df_qq_1, x='q_train_pr', y='q_test_pr', label='Реальное совпадение')\n",
    "    sns.lineplot(x='q_train_pr', y='q_train_pr', data=df_qq_1, color='r', label='Идеальное совпадение')\n",
    "    plt.xlabel('Обучающая выборка')\n",
    "    plt.ylabel('Тестовая выборка')\n",
    "    plt.title('QQ plot для этапа первичной очистки')\n",
    "    plt.grid()\n",
    "    plt.show()\n",
    "    \n",
    "    number_3 = train_rough_feed_size.values\n",
    "    number_4 = test_rough_feed_size.values\n",
    "    df_qq_2 = pd.DataFrame()\n",
    "    df_qq_2['q_train_pr'] = np.percentile(number_3, range(100))\n",
    "    df_qq_2['q_test_pr'] = np.percentile(number_4, range(100))\n",
    "    plt.figure(figsize=(6,6))\n",
    "    plt.scatter(data=df_qq_2, x='q_train_pr', y='q_test_pr', label='Реальное совпадение')\n",
    "    sns.lineplot(x='q_train_pr', y='q_train_pr', data=df_qq_2, color='r', label='Идеальное совпадение')\n",
    "    plt.xlabel('Обучающая выборка')\n",
    "    plt.ylabel('Тестовая выборка')\n",
    "    plt.title('QQ plot для этапа флотации')\n",
    "    plt.grid()\n",
    "    plt.show()"
   ]
  },
  {
   "cell_type": "code",
   "execution_count": 35,
   "metadata": {},
   "outputs": [
    {
     "data": {
      "image/png": "[encoded data removed]",
      "text/plain": [
       "<Figure size 600x600 with 1 Axes>"
      ]
     },
     "metadata": {},
     "output_type": "display_data"
    },
    {
     "data": {
      "image/png": "[encoded data removed]",
      "text/plain": [
       "<Figure size 600x600 with 1 Axes>"
      ]
     },
     "metadata": {},
     "output_type": "display_data"
    }
   ],
   "source": [
    "qqplot(df_train, df_test)"
   ]
  },
  {
   "cell_type": "markdown",
   "metadata": {},
   "source": [
    "Построим графики для оценки плотности распределения."
   ]
  },
  {
   "cell_type": "code",
   "execution_count": 36,
   "metadata": {},
   "outputs": [],
   "source": [
    "#функция для построения графика оценки плотности распределния\n",
    "def kdeplot(data_train, data_test):\n",
    "    feed_size_data_train = data_train.filter(regex='feed_size')\n",
    "    feed_size_data_test = data_test.filter(regex='feed_size')\n",
    "    feed_size_data_train.columns = ['первичная очистка', 'флотация']\n",
    "    feed_size_data_test.columns = ['первичная очистка', 'флотация']\n",
    "    train_primary_feed_size = feed_size_data_train['первичная очистка']\n",
    "    test_primary_feed_size = feed_size_data_test['первичная очистка']\n",
    "    train_rough_feed_size = feed_size_data_train['флотация']\n",
    "    test_rough_feed_size = feed_size_data_test['флотация']\n",
    "    sns.kdeplot(data=train_primary_feed_size, label='Обучающая выборка')\n",
    "    sns.kdeplot(data=test_primary_feed_size, label='Тестовая выборка')\n",
    "    plt.title('KDE plot для этапа первичной очистки')\n",
    "    plt.legend()\n",
    "    plt.grid()\n",
    "    plt.show()\n",
    "    \n",
    "    sns.kdeplot(data=train_rough_feed_size, label='Обучающая выборка')\n",
    "    sns.kdeplot(data=test_rough_feed_size, label='Тестовая выборка')\n",
    "    plt.title('KDE plot для этапа флотации')\n",
    "    plt.legend()\n",
    "    plt.grid()\n",
    "    plt.show()"
   ]
  },
  {
   "cell_type": "code",
   "execution_count": 37,
   "metadata": {},
   "outputs": [
    {
     "data": {
      "image/png": "[encoded data removed]",
      "text/plain": [
       "<Figure size 640x480 with 1 Axes>"
      ]
     },
     "metadata": {},
     "output_type": "display_data"
    },
    {
     "data": {
      "image/png": "[encoded data removed]",
      "text/plain": [
       "<Figure size 640x480 with 1 Axes>"
      ]
     },
     "metadata": {},
     "output_type": "display_data"
    }
   ],
   "source": [
    "kdeplot(df_train, df_test)"
   ]
  },
  {
   "cell_type": "markdown",
   "metadata": {},
   "source": [
    "### ВЫВОД\n",
    "\n",
    "- Распределения размеров гранул сырья на обучающей и тестовой выборках на стадии первичной обработки имеют мало различий, медиана и среднее выборок различаются минимально;\n",
    "- Распределения размеров гранул сырья на обучающей и тестовой выборках на стадии флотации имеют более выраженные различия, но в целом распределение имеет схожую форму.\n"
   ]
  },
  {
   "cell_type": "markdown",
   "metadata": {},
   "source": [
    "### Исследую суммарную концентрацию всех веществ на разных стадиях: в сырье, в черновом и финальном концентратах"
   ]
  },
  {
   "cell_type": "code",
   "execution_count": 38,
   "metadata": {},
   "outputs": [],
   "source": [
    "#данные для сырья\n",
    "df_rougher_input = df.filter(regex='rougher.input.feed')\n",
    "df_rougher_input = df_rougher_input.drop(columns=\n",
    "                                             ['rougher.input.feed_rate', 'rougher.input.feed_size'])\n",
    "df['rougher.input.feed_sum'] = df_rougher_input.sum(axis=1)"
   ]
  },
  {
   "cell_type": "code",
   "execution_count": 39,
   "metadata": {},
   "outputs": [
    {
     "data": {
      "image/png": "[encoded data removed]",
      "text/plain": [
       "<Figure size 640x480 with 1 Axes>"
      ]
     },
     "metadata": {},
     "output_type": "display_data"
    }
   ],
   "source": [
    "sns.histplot(data=df, x='rougher.input.feed_sum')\n",
    "plt.title('Распределение суммарной концентрации веществ в сырье')\n",
    "plt.xlabel('суммарная концентрация')\n",
    "plt.ylabel('количество')\n",
    "plt.grid()\n",
    "plt.show()"
   ]
  },
  {
   "cell_type": "code",
   "execution_count": 40,
   "metadata": {},
   "outputs": [],
   "source": [
    "#данные для чернового концентрата\n",
    "df_rougher_output = df.filter(regex='rougher.output.concentrate')\n",
    "df['rougher.output.concentrate_sum'] = df_rougher_output.sum(axis=1)"
   ]
  },
  {
   "cell_type": "code",
   "execution_count": 41,
   "metadata": {},
   "outputs": [
    {
     "data": {
      "image/png": "[encoded data removed]",
      "text/plain": [
       "<Figure size 640x480 with 1 Axes>"
      ]
     },
     "metadata": {},
     "output_type": "display_data"
    }
   ],
   "source": [
    "sns.histplot(data=df, x='rougher.output.concentrate_sum')\n",
    "plt.title('Распределение суммарной концентрации веществ этап флотации')\n",
    "plt.xlabel('суммарная концентрация')\n",
    "plt.ylabel('количество')\n",
    "plt.grid()\n",
    "plt.show()"
   ]
  },
  {
   "cell_type": "code",
   "execution_count": 42,
   "metadata": {},
   "outputs": [],
   "source": [
    "#данные для концентрата после первого этапа очистки\n",
    "df_primary_output = df.filter(regex='primary_cleaner.output.concentrate')\n",
    "df['primary_cleaner.output.concentrate_sum'] = df_primary_output.sum(axis=1)"
   ]
  },
  {
   "cell_type": "code",
   "execution_count": 43,
   "metadata": {},
   "outputs": [
    {
     "data": {
      "image/png": "[encoded data removed]",
      "text/plain": [
       "<Figure size 640x480 with 1 Axes>"
      ]
     },
     "metadata": {},
     "output_type": "display_data"
    }
   ],
   "source": [
    "sns.histplot(data=df, x='primary_cleaner.output.concentrate_sum')\n",
    "plt.title('Распределение суммарной концентрации веществ первичная очистка')\n",
    "plt.xlabel('суммарная концентрация')\n",
    "plt.ylabel('количество')\n",
    "plt.grid()\n",
    "plt.show()"
   ]
  },
  {
   "cell_type": "code",
   "execution_count": 44,
   "metadata": {},
   "outputs": [],
   "source": [
    "#данные для финального концентрата\n",
    "df_final_output = df.filter(regex='final.output.concentrate')\n",
    "df['final.output.concentrate_sum'] = df_final_output.sum(axis=1)"
   ]
  },
  {
   "cell_type": "code",
   "execution_count": 45,
   "metadata": {},
   "outputs": [
    {
     "data": {
      "image/png": "[encoded data removed]",
      "text/plain": [
       "<Figure size 640x480 with 1 Axes>"
      ]
     },
     "metadata": {},
     "output_type": "display_data"
    }
   ],
   "source": [
    "sns.histplot(data=df, x='final.output.concentrate_sum')\n",
    "plt.title('Распределение суммарной концентрации веществ финальный этап')\n",
    "plt.xlabel('суммарная концентрация')\n",
    "plt.ylabel('количество')\n",
    "plt.grid()\n",
    "plt.show()"
   ]
  },
  {
   "cell_type": "code",
   "execution_count": 46,
   "metadata": {},
   "outputs": [
    {
     "name": "stdout",
     "output_type": "stream",
     "text": [
      "Аномалии для распределения сырья: 0\n",
      "Аномалии для распределения флотации: 394\n",
      "Аномалии для распределения первичной очистки: 108\n",
      "Аномалии для распределения финального концентрата: 98\n"
     ]
    }
   ],
   "source": [
    "print('Аномалии для распределения сырья:', \n",
    "      df.loc[df['rougher.input.feed_sum'] == 0, 'rougher.input.feed_sum'].count())\n",
    "print('Аномалии для распределения флотации:', \n",
    "      df.loc[df['rougher.output.concentrate_sum'] == 0, 'rougher.output.concentrate_sum'].count())\n",
    "print('Аномалии для распределения первичной очистки:', \n",
    "      df.loc[df['primary_cleaner.output.concentrate_sum'] == 0, \n",
    "             'primary_cleaner.output.concentrate_sum'].count())\n",
    "print('Аномалии для распределения финального концентрата:',\n",
    "      df.loc[df['final.output.concentrate_sum'] == 0, 'final.output.concentrate_sum'].count())"
   ]
  },
  {
   "cell_type": "markdown",
   "metadata": {},
   "source": [
    "### Исключаю аномальные значения из исходных данных"
   ]
  },
  {
   "cell_type": "code",
   "execution_count": 47,
   "metadata": {},
   "outputs": [],
   "source": [
    "#исключение из исходных данных аномальных значений\n",
    "for col in ['rougher.input.feed_sum', 'rougher.output.concentrate_sum', \n",
    "            'primary_cleaner.output.concentrate_sum', 'final.output.concentrate_sum']:\n",
    "    df = df[df[col] > 0]"
   ]
  },
  {
   "cell_type": "code",
   "execution_count": 48,
   "metadata": {},
   "outputs": [],
   "source": [
    "df = df.set_index('date')"
   ]
  },
  {
   "cell_type": "code",
   "execution_count": 49,
   "metadata": {},
   "outputs": [],
   "source": [
    "df_train = df_train.set_index('date')"
   ]
  },
  {
   "cell_type": "code",
   "execution_count": 50,
   "metadata": {},
   "outputs": [],
   "source": [
    "#обучающие данные без аномалий\n",
    "df_train = df_train.loc[df_train.index.isin(df.index)]"
   ]
  },
  {
   "cell_type": "markdown",
   "metadata": {},
   "source": [
    "### ВЫВОД\n",
    "\n",
    "- В суммарной концентрации сырья на этапах флотации, первичной очистки, финального концентрата обнаружены аномалии (значения равны 0).\n",
    "- Из исходных данных и обучающей выборки исключены значения аномалии."
   ]
  },
  {
   "cell_type": "markdown",
   "metadata": {},
   "source": [
    "## Этап 3. Построение модели"
   ]
  },
  {
   "cell_type": "markdown",
   "metadata": {},
   "source": [
    "### Функция для вычисления итоговой sMAPE"
   ]
  },
  {
   "cell_type": "code",
   "execution_count": 51,
   "metadata": {},
   "outputs": [],
   "source": [
    "#функция для smape\n",
    "def smape(y, y_pred):\n",
    "    abs1 = abs(y - y_pred)\n",
    "    abs2 = abs(y) + abs(y_pred)\n",
    "    return 1/len(y) * ((abs1 * 2 / abs2) * 100).sum()"
   ]
  },
  {
   "cell_type": "code",
   "execution_count": 52,
   "metadata": {},
   "outputs": [],
   "source": [
    "#функция для итогового smape\n",
    "def final_smape(smape1, smape2):\n",
    "    return smape1 * 0.25 + smape2 * 0.75"
   ]
  },
  {
   "cell_type": "markdown",
   "metadata": {},
   "source": [
    "### Обучаю разные модели и оцениваю их качество кросс-валидацией. Выбираю лучшую модель и проверяю её на тестовой выборке"
   ]
  },
  {
   "cell_type": "markdown",
   "metadata": {},
   "source": [
    "В качестве признаков берем все признаки из тестовой выборки, кроме столбца date. Рассматриваем отдельно два целевых признака: rougher.output.recovery и final.output.recovery."
   ]
  },
  {
   "cell_type": "code",
   "execution_count": 53,
   "metadata": {},
   "outputs": [],
   "source": [
    "df_test = df_test.set_index('date')"
   ]
  },
  {
   "cell_type": "code",
   "execution_count": 54,
   "metadata": {},
   "outputs": [],
   "source": [
    "df_test = df_test.merge(df[['rougher.output.recovery', 'final.output.recovery']],\n",
    "                       how='inner', left_index=True, right_index=True)"
   ]
  },
  {
   "cell_type": "code",
   "execution_count": 55,
   "metadata": {},
   "outputs": [],
   "source": [
    "#определяем признаки, целевой признак\n",
    "features_train = df_train[df_test.columns].drop(\n",
    "    ['rougher.output.recovery', 'final.output.recovery'], axis=1)\n",
    "features_test = df_test.drop(['rougher.output.recovery', 'final.output.recovery'], axis=1)\n",
    "target_train_1 = df_train['rougher.output.recovery']\n",
    "target_train_2 = df_train['final.output.recovery']\n",
    "target_test_1 = df_test['rougher.output.recovery']\n",
    "target_test_2 = df_test['final.output.recovery']"
   ]
  },
  {
   "cell_type": "code",
   "execution_count": 56,
   "metadata": {},
   "outputs": [
    {
     "data": {
      "text/plain": [
       "((13725, 52), (5123, 52))"
      ]
     },
     "execution_count": 56,
     "metadata": {},
     "output_type": "execute_result"
    }
   ],
   "source": [
    "features_train.shape, features_test.shape"
   ]
  },
  {
   "cell_type": "code",
   "execution_count": 57,
   "metadata": {},
   "outputs": [],
   "source": [
    "#задаем метрику качества модели\n",
    "smape_scorer = make_scorer(smape, greater_is_better=False)"
   ]
  },
  {
   "cell_type": "markdown",
   "metadata": {},
   "source": [
    "#### Линейная регрессия."
   ]
  },
  {
   "cell_type": "code",
   "execution_count": 58,
   "metadata": {},
   "outputs": [
    {
     "name": "stdout",
     "output_type": "stream",
     "text": [
      "Результат модели: 7.265696047565976\n"
     ]
    }
   ],
   "source": [
    "model_1 = LinearRegression()\n",
    "scores_1 = cross_val_score(model_1, features_train, target_train_1, \n",
    "                           cv=5, scoring=smape_scorer)\n",
    "print('Результат модели:', abs(scores_1.mean()))"
   ]
  },
  {
   "cell_type": "code",
   "execution_count": 59,
   "metadata": {},
   "outputs": [
    {
     "name": "stdout",
     "output_type": "stream",
     "text": [
      "Результат модели: 10.95053250099325\n"
     ]
    }
   ],
   "source": [
    "model_2 = LinearRegression()\n",
    "scores_2 = cross_val_score(model_2, features_train, target_train_2,\n",
    "                          cv=5, scoring=smape_scorer)\n",
    "print('Результат модели:', abs(scores_2.mean()))"
   ]
  },
  {
   "cell_type": "markdown",
   "metadata": {},
   "source": [
    "#### Дерево решений. С помощью GridSearchCV подберу лучшие гиперпараметры для Decision Tree"
   ]
  },
  {
   "cell_type": "code",
   "execution_count": 60,
   "metadata": {},
   "outputs": [
    {
     "name": "stdout",
     "output_type": "stream",
     "text": [
      "Лучшие гиперпараметры: {'max_depth': 4, 'min_samples_leaf': 11, 'min_samples_split': 5}\n"
     ]
    }
   ],
   "source": [
    "model_3 = DecisionTreeRegressor(random_state=12345)\n",
    "parametrs_1 = ({'max_depth': range(2,30,2),\n",
    "             'min_samples_split': range(5,15,3),\n",
    "             'min_samples_leaf': range(5,15,3)})\n",
    "grid_model_3 = GridSearchCV(model_3, parametrs_1, scoring=smape_scorer)\n",
    "grid_model_3.fit(features_train, target_train_1)\n",
    "print('Лучшие гиперпараметры:', grid_model_3.best_params_)"
   ]
  },
  {
   "cell_type": "code",
   "execution_count": 61,
   "metadata": {},
   "outputs": [
    {
     "name": "stdout",
     "output_type": "stream",
     "text": [
      "Результат модели: 7.3006074059538495\n"
     ]
    }
   ],
   "source": [
    "print('Результат модели:', abs(grid_model_3.best_score_))"
   ]
  },
  {
   "cell_type": "code",
   "execution_count": 62,
   "metadata": {},
   "outputs": [
    {
     "name": "stdout",
     "output_type": "stream",
     "text": [
      "Лучшие гиперпараметры: {'max_depth': 2, 'min_samples_leaf': 5, 'min_samples_split': 5}\n"
     ]
    }
   ],
   "source": [
    "model_4 = DecisionTreeRegressor(random_state=12345)\n",
    "parametrs_2 = ({'max_depth': range(2,30,2),\n",
    "             'min_samples_split': range(5,15,3),\n",
    "             'min_samples_leaf': range(5,15,3)})\n",
    "grid_model_4 = GridSearchCV(model_4, parametrs_2, scoring=smape_scorer)\n",
    "grid_model_4.fit(features_train, target_train_2)\n",
    "print('Лучшие гиперпараметры:', grid_model_4.best_params_)"
   ]
  },
  {
   "cell_type": "code",
   "execution_count": 63,
   "metadata": {},
   "outputs": [
    {
     "name": "stdout",
     "output_type": "stream",
     "text": [
      "Результат модели: 9.448847712639406\n"
     ]
    }
   ],
   "source": [
    "print('Результат модели:', abs(grid_model_4.best_score_))"
   ]
  },
  {
   "cell_type": "markdown",
   "metadata": {},
   "source": [
    "#### Random Forest. С помощью GridSearchCV подберу лучшие гиперпараметры для Random Forest"
   ]
  },
  {
   "cell_type": "code",
   "execution_count": 64,
   "metadata": {},
   "outputs": [
    {
     "name": "stdout",
     "output_type": "stream",
     "text": [
      "Лучшие гиперпараметры: {'max_depth': 6, 'n_estimators': 5}\n"
     ]
    }
   ],
   "source": [
    "model_5 = RandomForestRegressor(random_state=12345)\n",
    "parametrs_3 = ({'max_depth': range(2,20,2),\n",
    "              'n_estimators': range(5,100,10)})\n",
    "grid_model_5 = GridSearchCV(model_5, parametrs_3, scoring=smape_scorer)\n",
    "grid_model_5.fit(features_train, target_train_1)\n",
    "print('Лучшие гиперпараметры:', grid_model_5.best_params_)"
   ]
  },
  {
   "cell_type": "code",
   "execution_count": 65,
   "metadata": {},
   "outputs": [
    {
     "name": "stdout",
     "output_type": "stream",
     "text": [
      "Результат модели: 6.627281878689024\n"
     ]
    }
   ],
   "source": [
    "print('Результат модели:', abs(grid_model_5.best_score_))"
   ]
  },
  {
   "cell_type": "code",
   "execution_count": 66,
   "metadata": {},
   "outputs": [
    {
     "name": "stdout",
     "output_type": "stream",
     "text": [
      "Лучшие гиперпараметры: {'max_depth': 4, 'n_estimators': 45}\n"
     ]
    }
   ],
   "source": [
    "model_6 = RandomForestRegressor(random_state=12345)\n",
    "parametrs_4 = ({'max_depth': range(2,20,2),\n",
    "              'n_estimators': range(5,100,10)})\n",
    "grid_model_6 = GridSearchCV(model_6, parametrs_4, scoring=smape_scorer)\n",
    "grid_model_6.fit(features_train, target_train_2)\n",
    "print('Лучшие гиперпараметры:', grid_model_6.best_params_)"
   ]
  },
  {
   "cell_type": "code",
   "execution_count": 67,
   "metadata": {},
   "outputs": [
    {
     "name": "stdout",
     "output_type": "stream",
     "text": [
      "Результат модели: 9.005983773126903\n"
     ]
    }
   ],
   "source": [
    "print('Результат модели:', abs(grid_model_6.best_score_))"
   ]
  },
  {
   "cell_type": "code",
   "execution_count": 68,
   "metadata": {},
   "outputs": [
    {
     "data": {
      "text/html": [
       "<div>\n",
       "<style scoped>\n",
       "    .dataframe tbody tr th:only-of-type {\n",
       "        vertical-align: middle;\n",
       "    }\n",
       "\n",
       "    .dataframe tbody tr th {\n",
       "        vertical-align: top;\n",
       "    }\n",
       "\n",
       "    .dataframe thead th {\n",
       "        text-align: right;\n",
       "    }\n",
       "</style>\n",
       "<table border=\"1\" class=\"dataframe\">\n",
       "  <thead>\n",
       "    <tr style=\"text-align: right;\">\n",
       "      <th></th>\n",
       "      <th>модель</th>\n",
       "      <th>sMAPE 1</th>\n",
       "      <th>sMAPE 2</th>\n",
       "    </tr>\n",
       "  </thead>\n",
       "  <tbody>\n",
       "    <tr>\n",
       "      <th>0</th>\n",
       "      <td>linear regression</td>\n",
       "      <td>7.265696</td>\n",
       "      <td>10.950533</td>\n",
       "    </tr>\n",
       "    <tr>\n",
       "      <th>1</th>\n",
       "      <td>decision tree</td>\n",
       "      <td>7.300607</td>\n",
       "      <td>9.448848</td>\n",
       "    </tr>\n",
       "    <tr>\n",
       "      <th>2</th>\n",
       "      <td>random forest</td>\n",
       "      <td>6.627282</td>\n",
       "      <td>9.005984</td>\n",
       "    </tr>\n",
       "  </tbody>\n",
       "</table>\n",
       "</div>"
      ],
      "text/plain": [
       "              модель   sMAPE 1    sMAPE 2\n",
       "0  linear regression  7.265696  10.950533\n",
       "1      decision tree  7.300607   9.448848\n",
       "2      random forest  6.627282   9.005984"
      ]
     },
     "execution_count": 68,
     "metadata": {},
     "output_type": "execute_result"
    }
   ],
   "source": [
    "#сравнение моделей\n",
    "df_model = pd.DataFrame({'модель': ['linear regression', 'decision tree', 'random forest'],\n",
    "                        'sMAPE 1': [abs(scores_1.mean()), abs(grid_model_3.best_score_)\n",
    "                                    , abs(grid_model_5.best_score_)],\n",
    "                         'sMAPE 2': [abs(scores_2.mean()), abs(grid_model_4.best_score_)\n",
    "                                    , abs(grid_model_6.best_score_)]                         \n",
    "                        })\n",
    "df_model"
   ]
  },
  {
   "cell_type": "markdown",
   "metadata": {},
   "source": [
    "#### Лучший результат показала модель Random Forest"
   ]
  },
  {
   "cell_type": "code",
   "execution_count": 69,
   "metadata": {},
   "outputs": [],
   "source": [
    "best_model_1 = grid_model_5.best_estimator_"
   ]
  },
  {
   "cell_type": "code",
   "execution_count": 70,
   "metadata": {},
   "outputs": [],
   "source": [
    "best_model_2 = grid_model_6.best_estimator_"
   ]
  },
  {
   "cell_type": "markdown",
   "metadata": {},
   "source": [
    "### Применение лучших моделей для тестовой выборки"
   ]
  },
  {
   "cell_type": "code",
   "execution_count": 71,
   "metadata": {},
   "outputs": [
    {
     "name": "stdout",
     "output_type": "stream",
     "text": [
      "Результат модели: 4.58980657447828\n"
     ]
    }
   ],
   "source": [
    "predict_test_1 = best_model_1.predict(features_test)\n",
    "score_test_1 = smape(target_test_1, predict_test_1)\n",
    "print('Результат модели:', score_test_1)"
   ]
  },
  {
   "cell_type": "code",
   "execution_count": 72,
   "metadata": {},
   "outputs": [
    {
     "name": "stdout",
     "output_type": "stream",
     "text": [
      "Результат модели: 8.255504526012416\n"
     ]
    }
   ],
   "source": [
    "predict_test_2 = best_model_2.predict(features_test)\n",
    "score_test_2 = smape(target_test_2, predict_test_2)\n",
    "print('Результат модели:', score_test_2)"
   ]
  },
  {
   "cell_type": "code",
   "execution_count": 73,
   "metadata": {},
   "outputs": [
    {
     "name": "stdout",
     "output_type": "stream",
     "text": [
      "Итоговое sMAPE 7.339080038128882\n"
     ]
    }
   ],
   "source": [
    "final_score = final_smape(score_test_1, score_test_2)\n",
    "print('Итоговое sMAPE', final_score)"
   ]
  },
  {
   "cell_type": "markdown",
   "metadata": {},
   "source": [
    "### Проверка на адекватность"
   ]
  },
  {
   "cell_type": "code",
   "execution_count": 74,
   "metadata": {},
   "outputs": [
    {
     "name": "stdout",
     "output_type": "stream",
     "text": [
      "Результат dummy модели: 4.809033066029801\n"
     ]
    }
   ],
   "source": [
    "dummy_median_1 = DummyRegressor(strategy='median')\n",
    "dummy_median_1.fit(features_train, target_train_1)\n",
    "dummy_predict_1 = dummy_median_1.predict(features_test)\n",
    "dummy_test_1 = smape(target_test_1, dummy_predict_1)\n",
    "print('Результат dummy модели:', dummy_test_1)"
   ]
  },
  {
   "cell_type": "code",
   "execution_count": 75,
   "metadata": {},
   "outputs": [
    {
     "name": "stdout",
     "output_type": "stream",
     "text": [
      "Результат dummy модели: 8.222545492433415\n"
     ]
    }
   ],
   "source": [
    "dummy_median_2 = DummyRegressor(strategy='median')\n",
    "dummy_median_2.fit(features_train, target_train_2)\n",
    "dummy_predict_2 = dummy_median_2.predict(features_test)\n",
    "dummy_test_2 = smape(target_test_2, dummy_predict_2)\n",
    "print('Результат dummy модели:', dummy_test_2)"
   ]
  },
  {
   "cell_type": "code",
   "execution_count": 76,
   "metadata": {},
   "outputs": [
    {
     "name": "stdout",
     "output_type": "stream",
     "text": [
      "Итоговое sMAPE dummy модели 7.369167385832512\n"
     ]
    }
   ],
   "source": [
    "final_score_dummy = final_smape(dummy_test_1, dummy_test_2)\n",
    "print('Итоговое sMAPE dummy модели', final_score_dummy)"
   ]
  },
  {
   "cell_type": "markdown",
   "metadata": {},
   "source": [
    "## Вывод"
   ]
  },
  {
   "cell_type": "markdown",
   "metadata": {},
   "source": [
    "Для исследования были предоставлены 3 датасета (исходные данные, обучающая выборка, тестовая выборка), содержащие данные по восстановлению золота из руды. \n",
    "\n",
    "Цель исследования - построение модели для предсказания коэффициента восстановления золота из золотосодержащей руды.\n",
    "\n",
    "Для выполнения цели исследования были реализованы следующие задачи:\n",
    "- Проведена преобработка данных: заполнены пропуски, проведена проверка на явные дубликаты;\n",
    "- Проверена корректность расчетов эффективности обогащения. Значение MAE практически ровно 0, что говорит о правильности расчетов;\n",
    "- Проанализированы признаки, недоступные в тестовой выборке. Их отсутствие объясняется необходимостью избежать утечку целевого признака;\n",
    "- Произведен анализ концентрации металлов на различных этапах очистки. Средняя и медианная концентрация AU растет на каждом этапе от сырья до финального концентрата;\n",
    "- Исследованы распределения гранул сырья на тестовой и обучающей выборках - значимых различий нет;\n",
    "- Обучены и проверены модели для 2 целевых признаков (rougher.output.recovery и final.output.recovery). Наилучшие результаты показали модели Random Forest.\n",
    "- Качество лучших моделей для 2 целевых признаков проверено на тестовой выборке метрикой sMAPE. Итоговое значение sMAPE 7.33%"
   ]
  }
 ],
 "metadata": {
  "ExecuteTimeLog": [
   {
    "duration": 118,
    "start_time": "2023-03-29T20:41:20.962Z"
   },
   {
    "duration": 1532,
    "start_time": "2023-03-29T20:41:38.790Z"
   },
   {
    "duration": 3090,
    "start_time": "2023-03-29T20:41:40.325Z"
   },
   {
    "duration": 19,
    "start_time": "2023-03-29T20:41:43.416Z"
   },
   {
    "duration": 49,
    "start_time": "2023-03-29T20:41:43.438Z"
   },
   {
    "duration": 16,
    "start_time": "2023-03-29T20:41:43.489Z"
   },
   {
    "duration": 15,
    "start_time": "2023-03-29T20:41:43.506Z"
   },
   {
    "duration": 17,
    "start_time": "2023-03-29T20:41:43.523Z"
   },
   {
    "duration": 19,
    "start_time": "2023-03-29T20:41:43.542Z"
   },
   {
    "duration": 9,
    "start_time": "2023-03-29T20:41:43.563Z"
   },
   {
    "duration": 6,
    "start_time": "2023-03-29T20:41:43.575Z"
   },
   {
    "duration": 8,
    "start_time": "2023-03-29T20:41:43.582Z"
   },
   {
    "duration": 8,
    "start_time": "2023-03-29T20:41:43.592Z"
   },
   {
    "duration": 7,
    "start_time": "2023-03-29T20:41:43.601Z"
   },
   {
    "duration": 6,
    "start_time": "2023-03-29T20:41:43.609Z"
   },
   {
    "duration": 5,
    "start_time": "2023-03-29T20:41:43.617Z"
   },
   {
    "duration": 15,
    "start_time": "2023-03-29T20:41:43.624Z"
   },
   {
    "duration": 8,
    "start_time": "2023-03-29T20:41:43.641Z"
   },
   {
    "duration": 10,
    "start_time": "2023-03-29T20:41:43.651Z"
   },
   {
    "duration": 8,
    "start_time": "2023-03-29T20:41:43.662Z"
   },
   {
    "duration": 16,
    "start_time": "2023-03-29T20:41:43.672Z"
   },
   {
    "duration": 11,
    "start_time": "2023-03-29T20:41:43.690Z"
   },
   {
    "duration": 33,
    "start_time": "2023-03-29T20:41:43.702Z"
   },
   {
    "duration": 98,
    "start_time": "2023-03-29T20:41:43.737Z"
   },
   {
    "duration": 118,
    "start_time": "2023-03-29T20:41:43.837Z"
   },
   {
    "duration": 27,
    "start_time": "2023-03-29T20:41:43.957Z"
   },
   {
    "duration": 12,
    "start_time": "2023-03-29T20:41:43.986Z"
   },
   {
    "duration": 9,
    "start_time": "2023-03-29T20:41:44.000Z"
   },
   {
    "duration": 20,
    "start_time": "2023-03-29T20:41:44.014Z"
   },
   {
    "duration": 12,
    "start_time": "2023-03-29T20:41:44.036Z"
   },
   {
    "duration": 37,
    "start_time": "2023-03-29T20:41:44.049Z"
   },
   {
    "duration": 145,
    "start_time": "2023-03-29T20:41:44.087Z"
   },
   {
    "duration": 13,
    "start_time": "2023-03-29T20:41:44.234Z"
   },
   {
    "duration": 6,
    "start_time": "2023-03-29T20:41:44.248Z"
   },
   {
    "duration": 9,
    "start_time": "2023-03-29T20:41:44.255Z"
   },
   {
    "duration": 14,
    "start_time": "2023-03-29T20:41:44.265Z"
   },
   {
    "duration": 25,
    "start_time": "2023-03-29T20:41:44.280Z"
   },
   {
    "duration": 147,
    "start_time": "2023-03-29T20:41:44.307Z"
   },
   {
    "duration": 12,
    "start_time": "2023-03-29T20:41:44.455Z"
   },
   {
    "duration": 5,
    "start_time": "2023-03-29T20:41:44.468Z"
   },
   {
    "duration": 7,
    "start_time": "2023-03-29T20:41:44.474Z"
   },
   {
    "duration": 13,
    "start_time": "2023-03-29T20:41:44.482Z"
   },
   {
    "duration": 42,
    "start_time": "2023-03-29T20:41:44.497Z"
   },
   {
    "duration": 255,
    "start_time": "2023-03-29T20:41:44.541Z"
   },
   {
    "duration": 11,
    "start_time": "2023-03-29T20:41:44.797Z"
   },
   {
    "duration": 29,
    "start_time": "2023-03-29T20:41:44.809Z"
   },
   {
    "duration": 9,
    "start_time": "2023-03-29T20:41:44.840Z"
   },
   {
    "duration": 13,
    "start_time": "2023-03-29T20:41:44.851Z"
   },
   {
    "duration": 131,
    "start_time": "2023-03-29T20:41:44.866Z"
   },
   {
    "duration": 137,
    "start_time": "2023-03-29T20:41:44.999Z"
   },
   {
    "duration": 117,
    "start_time": "2023-03-29T20:41:45.139Z"
   },
   {
    "duration": 128,
    "start_time": "2023-03-29T20:41:45.258Z"
   },
   {
    "duration": 238,
    "start_time": "2023-03-29T20:41:45.388Z"
   },
   {
    "duration": 207,
    "start_time": "2023-03-29T20:41:45.634Z"
   },
   {
    "duration": 226,
    "start_time": "2023-03-29T20:41:45.842Z"
   },
   {
    "duration": 181,
    "start_time": "2023-03-29T20:41:46.070Z"
   },
   {
    "duration": 490,
    "start_time": "2023-03-29T20:41:46.252Z"
   },
   {
    "duration": 365,
    "start_time": "2023-03-29T20:41:46.744Z"
   },
   {
    "duration": 7,
    "start_time": "2023-03-29T20:41:47.110Z"
   },
   {
    "duration": 310,
    "start_time": "2023-03-29T20:41:47.118Z"
   },
   {
    "duration": 18,
    "start_time": "2023-03-29T20:41:47.433Z"
   },
   {
    "duration": 312,
    "start_time": "2023-03-29T20:41:47.452Z"
   },
   {
    "duration": 19,
    "start_time": "2023-03-29T20:41:47.765Z"
   },
   {
    "duration": 342,
    "start_time": "2023-03-29T20:41:47.785Z"
   },
   {
    "duration": 22,
    "start_time": "2023-03-29T20:41:48.128Z"
   },
   {
    "duration": 621,
    "start_time": "2023-03-29T20:41:48.152Z"
   },
   {
    "duration": 7,
    "start_time": "2023-03-29T20:41:48.775Z"
   },
   {
    "duration": 54,
    "start_time": "2023-03-29T20:41:48.783Z"
   },
   {
    "duration": 6,
    "start_time": "2023-03-29T20:41:48.838Z"
   },
   {
    "duration": 7,
    "start_time": "2023-03-29T20:41:48.845Z"
   },
   {
    "duration": 14,
    "start_time": "2023-03-29T20:41:48.854Z"
   },
   {
    "duration": 9,
    "start_time": "2023-03-29T20:41:48.869Z"
   },
   {
    "duration": 6,
    "start_time": "2023-03-29T20:41:48.879Z"
   },
   {
    "duration": 10,
    "start_time": "2023-03-29T20:41:48.886Z"
   },
   {
    "duration": 10,
    "start_time": "2023-03-29T20:41:48.897Z"
   },
   {
    "duration": 13,
    "start_time": "2023-03-29T20:41:48.909Z"
   },
   {
    "duration": 14,
    "start_time": "2023-03-29T20:41:48.934Z"
   },
   {
    "duration": 10,
    "start_time": "2023-03-29T20:41:48.949Z"
   },
   {
    "duration": 5,
    "start_time": "2023-03-29T20:41:48.960Z"
   },
   {
    "duration": 1569,
    "start_time": "2023-03-29T20:41:48.967Z"
   },
   {
    "duration": 1499,
    "start_time": "2023-03-29T20:41:50.538Z"
   },
   {
    "duration": 519827,
    "start_time": "2023-03-29T20:44:42.535Z"
   }
  ],
  "kernelspec": {
   "display_name": "Python 3 (ipykernel)",
   "language": "python",
   "name": "python3"
  },
  "language_info": {
   "codemirror_mode": {
    "name": "ipython",
    "version": 3
   },
   "file_extension": ".py",
   "mimetype": "text/x-python",
   "name": "python",
   "nbconvert_exporter": "python",
   "pygments_lexer": "ipython3",
   "version": "3.9.13"
  },
  "toc": {
   "base_numbering": 1,
   "nav_menu": {},
   "number_sections": true,
   "sideBar": true,
   "skip_h1_title": true,
   "title_cell": "Содержание",
   "title_sidebar": "Contents",
   "toc_cell": true,
   "toc_position": {
    "height": "calc(100% - 180px)",
    "left": "10px",
    "top": "150px",
    "width": "165px"
   },
   "toc_section_display": true,
   "toc_window_display": true
  }
 },
 "nbformat": 4,
 "nbformat_minor": 2
}
